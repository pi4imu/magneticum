{
 "cells": [
  {
   "cell_type": "code",
   "execution_count": 1,
   "id": "75ab8be1",
   "metadata": {
    "scrolled": true
   },
   "outputs": [
    {
     "name": "stdout",
     "output_type": "stream",
     "text": [
      "figures\t\t\t __pycache__\t\t     tables\r\n",
      "hmf_clusters.ipynb\t README.md\t\t     utils\r\n",
      "merge_photons.ipynb\t scaling_relations.ipynb     xspec_table_models.py\r\n",
      "model_atable_19787.fits  spectra_from_photons.ipynb\r\n",
      "newLogFile.txt\t\t spectra_magneticum.ipynb\r\n"
     ]
    }
   ],
   "source": [
    "import pandas as pd\n",
    "import numpy as np\n",
    "import matplotlib.pyplot as plt\n",
    "from astropy.io import fits\n",
    "\n",
    "%matplotlib inline\n",
    "import os\n",
    "!ls"
   ]
  },
  {
   "cell_type": "markdown",
   "id": "fcb95f3f",
   "metadata": {},
   "source": [
    "## List of clusters from Magneticum's $5x5$ degrees field for $\\textit{eROSITA}$:"
   ]
  },
  {
   "cell_type": "code",
   "execution_count": 2,
   "id": "a0b37936",
   "metadata": {
    "scrolled": false
   },
   "outputs": [
    {
     "data": {
      "text/html": [
       "<div>\n",
       "<style scoped>\n",
       "    .dataframe tbody tr th:only-of-type {\n",
       "        vertical-align: middle;\n",
       "    }\n",
       "\n",
       "    .dataframe tbody tr th {\n",
       "        vertical-align: top;\n",
       "    }\n",
       "\n",
       "    .dataframe thead th {\n",
       "        text-align: right;\n",
       "    }\n",
       "</style>\n",
       "<table border=\"1\" class=\"dataframe\">\n",
       "  <thead>\n",
       "    <tr style=\"text-align: right;\">\n",
       "      <th></th>\n",
       "      <th>ihal</th>\n",
       "      <th>x_pix</th>\n",
       "      <th>y_pix</th>\n",
       "      <th>z_pix</th>\n",
       "      <th>Rrel</th>\n",
       "      <th>Mvir</th>\n",
       "      <th>z_true</th>\n",
       "      <th>z_obs</th>\n",
       "      <th>M500</th>\n",
       "      <th>R500</th>\n",
       "      <th>Mstar500</th>\n",
       "      <th>Mgas500</th>\n",
       "      <th>T500</th>\n",
       "      <th>Lx500</th>\n",
       "      <th>Ysz500</th>\n",
       "      <th>M200</th>\n",
       "      <th>R200</th>\n",
       "      <th>flag</th>\n",
       "    </tr>\n",
       "  </thead>\n",
       "  <tbody>\n",
       "    <tr>\n",
       "      <th>0</th>\n",
       "      <td>4488</td>\n",
       "      <td>0.158985</td>\n",
       "      <td>0.338312</td>\n",
       "      <td>-0.001185</td>\n",
       "      <td>0.001292</td>\n",
       "      <td>4.359560e+12</td>\n",
       "      <td>1.841289</td>\n",
       "      <td>1.841877</td>\n",
       "      <td>2.333170e+12</td>\n",
       "      <td>237.530</td>\n",
       "      <td>1.630180e+11</td>\n",
       "      <td>2.876200e+11</td>\n",
       "      <td>0.225047</td>\n",
       "      <td>0.430616</td>\n",
       "      <td>3.264381e-07</td>\n",
       "      <td>3.896570e+12</td>\n",
       "      <td>382.480</td>\n",
       "      <td>1</td>\n",
       "    </tr>\n",
       "    <tr>\n",
       "      <th>1</th>\n",
       "      <td>10920</td>\n",
       "      <td>0.411453</td>\n",
       "      <td>0.567867</td>\n",
       "      <td>-0.000886</td>\n",
       "      <td>0.001211</td>\n",
       "      <td>3.587970e+12</td>\n",
       "      <td>1.841375</td>\n",
       "      <td>1.841157</td>\n",
       "      <td>2.343910e+12</td>\n",
       "      <td>237.897</td>\n",
       "      <td>1.579330e+11</td>\n",
       "      <td>2.848240e+11</td>\n",
       "      <td>0.353030</td>\n",
       "      <td>0.298469</td>\n",
       "      <td>5.055408e-07</td>\n",
       "      <td>3.452630e+12</td>\n",
       "      <td>367.372</td>\n",
       "      <td>1</td>\n",
       "    </tr>\n",
       "    <tr>\n",
       "      <th>2</th>\n",
       "      <td>9879</td>\n",
       "      <td>0.614948</td>\n",
       "      <td>0.552184</td>\n",
       "      <td>-0.000867</td>\n",
       "      <td>0.001237</td>\n",
       "      <td>3.821110e+12</td>\n",
       "      <td>1.841381</td>\n",
       "      <td>1.840472</td>\n",
       "      <td>2.813710e+12</td>\n",
       "      <td>252.819</td>\n",
       "      <td>1.675460e+11</td>\n",
       "      <td>3.050620e+11</td>\n",
       "      <td>0.460362</td>\n",
       "      <td>0.866890</td>\n",
       "      <td>6.251936e-07</td>\n",
       "      <td>3.689000e+12</td>\n",
       "      <td>375.570</td>\n",
       "      <td>1</td>\n",
       "    </tr>\n",
       "    <tr>\n",
       "      <th>3</th>\n",
       "      <td>10554</td>\n",
       "      <td>0.338922</td>\n",
       "      <td>0.861748</td>\n",
       "      <td>-0.000626</td>\n",
       "      <td>0.001230</td>\n",
       "      <td>3.762290e+12</td>\n",
       "      <td>1.841451</td>\n",
       "      <td>1.842172</td>\n",
       "      <td>2.722610e+12</td>\n",
       "      <td>250.079</td>\n",
       "      <td>1.467930e+11</td>\n",
       "      <td>3.347020e+11</td>\n",
       "      <td>0.212813</td>\n",
       "      <td>0.135184</td>\n",
       "      <td>3.240774e-07</td>\n",
       "      <td>3.631350e+12</td>\n",
       "      <td>373.593</td>\n",
       "      <td>1</td>\n",
       "    </tr>\n",
       "    <tr>\n",
       "      <th>4</th>\n",
       "      <td>9471</td>\n",
       "      <td>0.790183</td>\n",
       "      <td>0.114536</td>\n",
       "      <td>-0.000542</td>\n",
       "      <td>0.001246</td>\n",
       "      <td>3.905190e+12</td>\n",
       "      <td>1.841475</td>\n",
       "      <td>1.841036</td>\n",
       "      <td>2.655260e+12</td>\n",
       "      <td>248.001</td>\n",
       "      <td>1.253810e+11</td>\n",
       "      <td>3.391100e+11</td>\n",
       "      <td>0.193536</td>\n",
       "      <td>0.347480</td>\n",
       "      <td>3.036291e-07</td>\n",
       "      <td>3.776650e+12</td>\n",
       "      <td>378.518</td>\n",
       "      <td>1</td>\n",
       "    </tr>\n",
       "    <tr>\n",
       "      <th>...</th>\n",
       "      <td>...</td>\n",
       "      <td>...</td>\n",
       "      <td>...</td>\n",
       "      <td>...</td>\n",
       "      <td>...</td>\n",
       "      <td>...</td>\n",
       "      <td>...</td>\n",
       "      <td>...</td>\n",
       "      <td>...</td>\n",
       "      <td>...</td>\n",
       "      <td>...</td>\n",
       "      <td>...</td>\n",
       "      <td>...</td>\n",
       "      <td>...</td>\n",
       "      <td>...</td>\n",
       "      <td>...</td>\n",
       "      <td>...</td>\n",
       "      <td>...</td>\n",
       "    </tr>\n",
       "    <tr>\n",
       "      <th>80719</th>\n",
       "      <td>17829</td>\n",
       "      <td>0.176474</td>\n",
       "      <td>0.934348</td>\n",
       "      <td>0.535773</td>\n",
       "      <td>0.044300</td>\n",
       "      <td>6.445740e+12</td>\n",
       "      <td>0.035010</td>\n",
       "      <td>0.033442</td>\n",
       "      <td>3.079510e+12</td>\n",
       "      <td>178.401</td>\n",
       "      <td>8.751090e+10</td>\n",
       "      <td>1.426880e+11</td>\n",
       "      <td>0.228647</td>\n",
       "      <td>0.002093</td>\n",
       "      <td>3.502228e-08</td>\n",
       "      <td>4.627230e+12</td>\n",
       "      <td>277.317</td>\n",
       "      <td>0</td>\n",
       "    </tr>\n",
       "    <tr>\n",
       "      <th>80720</th>\n",
       "      <td>16684</td>\n",
       "      <td>0.172749</td>\n",
       "      <td>0.799259</td>\n",
       "      <td>0.678075</td>\n",
       "      <td>0.045091</td>\n",
       "      <td>6.797670e+12</td>\n",
       "      <td>0.039740</td>\n",
       "      <td>0.038561</td>\n",
       "      <td>3.936150e+12</td>\n",
       "      <td>193.608</td>\n",
       "      <td>1.330060e+11</td>\n",
       "      <td>2.442580e+11</td>\n",
       "      <td>0.174054</td>\n",
       "      <td>0.005065</td>\n",
       "      <td>3.874990e-08</td>\n",
       "      <td>5.487050e+12</td>\n",
       "      <td>293.524</td>\n",
       "      <td>0</td>\n",
       "    </tr>\n",
       "    <tr>\n",
       "      <th>80721</th>\n",
       "      <td>23827</td>\n",
       "      <td>0.780422</td>\n",
       "      <td>0.841268</td>\n",
       "      <td>0.700093</td>\n",
       "      <td>0.035582</td>\n",
       "      <td>3.339550e+12</td>\n",
       "      <td>0.040473</td>\n",
       "      <td>0.039492</td>\n",
       "      <td>1.693910e+12</td>\n",
       "      <td>146.164</td>\n",
       "      <td>9.393110e+10</td>\n",
       "      <td>9.740160e+10</td>\n",
       "      <td>0.104610</td>\n",
       "      <td>0.000744</td>\n",
       "      <td>1.629454e-08</td>\n",
       "      <td>2.476620e+12</td>\n",
       "      <td>225.161</td>\n",
       "      <td>0</td>\n",
       "    </tr>\n",
       "    <tr>\n",
       "      <th>80722</th>\n",
       "      <td>43768</td>\n",
       "      <td>0.165853</td>\n",
       "      <td>0.769312</td>\n",
       "      <td>0.890579</td>\n",
       "      <td>0.035184</td>\n",
       "      <td>3.228940e+12</td>\n",
       "      <td>0.046824</td>\n",
       "      <td>0.046678</td>\n",
       "      <td>1.736550e+12</td>\n",
       "      <td>147.385</td>\n",
       "      <td>7.416080e+10</td>\n",
       "      <td>1.191250e+11</td>\n",
       "      <td>0.092758</td>\n",
       "      <td>0.002550</td>\n",
       "      <td>1.737916e-08</td>\n",
       "      <td>2.555850e+12</td>\n",
       "      <td>227.532</td>\n",
       "      <td>0</td>\n",
       "    </tr>\n",
       "    <tr>\n",
       "      <th>80723</th>\n",
       "      <td>2873</td>\n",
       "      <td>-0.057460</td>\n",
       "      <td>1.043923</td>\n",
       "      <td>0.909537</td>\n",
       "      <td>0.083363</td>\n",
       "      <td>4.295180e+13</td>\n",
       "      <td>0.047456</td>\n",
       "      <td>0.047144</td>\n",
       "      <td>2.706520e+13</td>\n",
       "      <td>368.153</td>\n",
       "      <td>9.428380e+11</td>\n",
       "      <td>1.754110e+12</td>\n",
       "      <td>0.926389</td>\n",
       "      <td>0.037974</td>\n",
       "      <td>4.096181e-07</td>\n",
       "      <td>3.615570e+13</td>\n",
       "      <td>550.311</td>\n",
       "      <td>1</td>\n",
       "    </tr>\n",
       "  </tbody>\n",
       "</table>\n",
       "<p>80724 rows × 18 columns</p>\n",
       "</div>"
      ],
      "text/plain": [
       "        ihal     x_pix     y_pix     z_pix      Rrel          Mvir    z_true  \\\n",
       "0       4488  0.158985  0.338312 -0.001185  0.001292  4.359560e+12  1.841289   \n",
       "1      10920  0.411453  0.567867 -0.000886  0.001211  3.587970e+12  1.841375   \n",
       "2       9879  0.614948  0.552184 -0.000867  0.001237  3.821110e+12  1.841381   \n",
       "3      10554  0.338922  0.861748 -0.000626  0.001230  3.762290e+12  1.841451   \n",
       "4       9471  0.790183  0.114536 -0.000542  0.001246  3.905190e+12  1.841475   \n",
       "...      ...       ...       ...       ...       ...           ...       ...   \n",
       "80719  17829  0.176474  0.934348  0.535773  0.044300  6.445740e+12  0.035010   \n",
       "80720  16684  0.172749  0.799259  0.678075  0.045091  6.797670e+12  0.039740   \n",
       "80721  23827  0.780422  0.841268  0.700093  0.035582  3.339550e+12  0.040473   \n",
       "80722  43768  0.165853  0.769312  0.890579  0.035184  3.228940e+12  0.046824   \n",
       "80723   2873 -0.057460  1.043923  0.909537  0.083363  4.295180e+13  0.047456   \n",
       "\n",
       "          z_obs          M500     R500      Mstar500       Mgas500      T500  \\\n",
       "0      1.841877  2.333170e+12  237.530  1.630180e+11  2.876200e+11  0.225047   \n",
       "1      1.841157  2.343910e+12  237.897  1.579330e+11  2.848240e+11  0.353030   \n",
       "2      1.840472  2.813710e+12  252.819  1.675460e+11  3.050620e+11  0.460362   \n",
       "3      1.842172  2.722610e+12  250.079  1.467930e+11  3.347020e+11  0.212813   \n",
       "4      1.841036  2.655260e+12  248.001  1.253810e+11  3.391100e+11  0.193536   \n",
       "...         ...           ...      ...           ...           ...       ...   \n",
       "80719  0.033442  3.079510e+12  178.401  8.751090e+10  1.426880e+11  0.228647   \n",
       "80720  0.038561  3.936150e+12  193.608  1.330060e+11  2.442580e+11  0.174054   \n",
       "80721  0.039492  1.693910e+12  146.164  9.393110e+10  9.740160e+10  0.104610   \n",
       "80722  0.046678  1.736550e+12  147.385  7.416080e+10  1.191250e+11  0.092758   \n",
       "80723  0.047144  2.706520e+13  368.153  9.428380e+11  1.754110e+12  0.926389   \n",
       "\n",
       "          Lx500        Ysz500          M200     R200  flag  \n",
       "0      0.430616  3.264381e-07  3.896570e+12  382.480     1  \n",
       "1      0.298469  5.055408e-07  3.452630e+12  367.372     1  \n",
       "2      0.866890  6.251936e-07  3.689000e+12  375.570     1  \n",
       "3      0.135184  3.240774e-07  3.631350e+12  373.593     1  \n",
       "4      0.347480  3.036291e-07  3.776650e+12  378.518     1  \n",
       "...         ...           ...           ...      ...   ...  \n",
       "80719  0.002093  3.502228e-08  4.627230e+12  277.317     0  \n",
       "80720  0.005065  3.874990e-08  5.487050e+12  293.524     0  \n",
       "80721  0.000744  1.629454e-08  2.476620e+12  225.161     0  \n",
       "80722  0.002550  1.737916e-08  2.555850e+12  227.532     0  \n",
       "80723  0.037974  4.096181e-07  3.615570e+13  550.311     1  \n",
       "\n",
       "[80724 rows x 18 columns]"
      ]
     },
     "execution_count": 2,
     "metadata": {},
     "output_type": "execute_result"
    }
   ],
   "source": [
    "spisok = pd.read_csv(\"../data/eROSITA_5.0x5.0/Catalouges/cluster.dat\", sep='\\s+')\n",
    "spisok"
   ]
  },
  {
   "cell_type": "code",
   "execution_count": 3,
   "id": "1fa766d4",
   "metadata": {},
   "outputs": [
    {
     "data": {
      "text/plain": [
       "(5.26424, 4.07547, 0.020103892, 2.1539604)"
      ]
     },
     "execution_count": 3,
     "metadata": {},
     "output_type": "execute_result"
    }
   ],
   "source": [
    "min(spisok[\"M500\"])/10**11, max(spisok[\"M500\"])/10**14, min(spisok[\"z_true\"]), max(spisok[\"z_true\"])"
   ]
  },
  {
   "cell_type": "markdown",
   "id": "6bf9d6f1",
   "metadata": {},
   "source": [
    "### ... or $30x30$ degrees:"
   ]
  },
  {
   "cell_type": "code",
   "execution_count": 4,
   "id": "6d937728",
   "metadata": {},
   "outputs": [
    {
     "data": {
      "text/html": [
       "<div>\n",
       "<style scoped>\n",
       "    .dataframe tbody tr th:only-of-type {\n",
       "        vertical-align: middle;\n",
       "    }\n",
       "\n",
       "    .dataframe tbody tr th {\n",
       "        vertical-align: top;\n",
       "    }\n",
       "\n",
       "    .dataframe thead th {\n",
       "        text-align: right;\n",
       "    }\n",
       "</style>\n",
       "<table border=\"1\" class=\"dataframe\">\n",
       "  <thead>\n",
       "    <tr style=\"text-align: right;\">\n",
       "      <th></th>\n",
       "      <th>ihal</th>\n",
       "      <th>x_pix</th>\n",
       "      <th>y_pix</th>\n",
       "      <th>z_pix</th>\n",
       "      <th>Rrel</th>\n",
       "      <th>Mvir</th>\n",
       "      <th>z_true</th>\n",
       "      <th>z_obs</th>\n",
       "      <th>M500</th>\n",
       "      <th>R500</th>\n",
       "      <th>Mstar500</th>\n",
       "      <th>Mgas500</th>\n",
       "      <th>T500</th>\n",
       "      <th>Lx500</th>\n",
       "      <th>Ysz500</th>\n",
       "      <th>M200</th>\n",
       "      <th>R200</th>\n",
       "      <th>flag</th>\n",
       "    </tr>\n",
       "  </thead>\n",
       "  <tbody>\n",
       "    <tr>\n",
       "      <th>0</th>\n",
       "      <td>1199</td>\n",
       "      <td>0.544662</td>\n",
       "      <td>0.600756</td>\n",
       "      <td>-0.008298</td>\n",
       "      <td>0.003015</td>\n",
       "      <td>6.412800e+13</td>\n",
       "      <td>0.156403</td>\n",
       "      <td>0.156474</td>\n",
       "      <td>3.274430e+13</td>\n",
       "      <td>427.372</td>\n",
       "      <td>1.077800e+12</td>\n",
       "      <td>2.716210e+12</td>\n",
       "      <td>0.852811</td>\n",
       "      <td>0.071189</td>\n",
       "      <td>5.602394e-07</td>\n",
       "      <td>5.316070e+13</td>\n",
       "      <td>681.705</td>\n",
       "      <td>1</td>\n",
       "    </tr>\n",
       "    <tr>\n",
       "      <th>1</th>\n",
       "      <td>4892</td>\n",
       "      <td>0.184225</td>\n",
       "      <td>0.954721</td>\n",
       "      <td>-0.005059</td>\n",
       "      <td>0.002147</td>\n",
       "      <td>2.315120e+13</td>\n",
       "      <td>0.156524</td>\n",
       "      <td>0.155755</td>\n",
       "      <td>1.387060e+13</td>\n",
       "      <td>320.948</td>\n",
       "      <td>3.662060e+11</td>\n",
       "      <td>1.070010e+12</td>\n",
       "      <td>0.546339</td>\n",
       "      <td>0.029094</td>\n",
       "      <td>2.506972e-07</td>\n",
       "      <td>1.904230e+13</td>\n",
       "      <td>484.132</td>\n",
       "      <td>1</td>\n",
       "    </tr>\n",
       "    <tr>\n",
       "      <th>2</th>\n",
       "      <td>9174</td>\n",
       "      <td>0.711115</td>\n",
       "      <td>0.065371</td>\n",
       "      <td>-0.005023</td>\n",
       "      <td>0.001850</td>\n",
       "      <td>1.481120e+13</td>\n",
       "      <td>0.156525</td>\n",
       "      <td>0.157581</td>\n",
       "      <td>7.888580e+12</td>\n",
       "      <td>265.919</td>\n",
       "      <td>2.633580e+11</td>\n",
       "      <td>4.274600e+11</td>\n",
       "      <td>0.465220</td>\n",
       "      <td>0.005180</td>\n",
       "      <td>1.242286e-07</td>\n",
       "      <td>1.295120e+13</td>\n",
       "      <td>425.758</td>\n",
       "      <td>1</td>\n",
       "    </tr>\n",
       "    <tr>\n",
       "      <th>3</th>\n",
       "      <td>1087</td>\n",
       "      <td>0.275818</td>\n",
       "      <td>0.254107</td>\n",
       "      <td>-0.004566</td>\n",
       "      <td>0.003034</td>\n",
       "      <td>6.535070e+13</td>\n",
       "      <td>0.156542</td>\n",
       "      <td>0.156442</td>\n",
       "      <td>3.869360e+13</td>\n",
       "      <td>451.823</td>\n",
       "      <td>1.060980e+12</td>\n",
       "      <td>3.463200e+12</td>\n",
       "      <td>1.025380</td>\n",
       "      <td>0.126354</td>\n",
       "      <td>7.684081e-07</td>\n",
       "      <td>5.545200e+13</td>\n",
       "      <td>691.346</td>\n",
       "      <td>1</td>\n",
       "    </tr>\n",
       "    <tr>\n",
       "      <th>4</th>\n",
       "      <td>6773</td>\n",
       "      <td>0.444286</td>\n",
       "      <td>0.276345</td>\n",
       "      <td>-0.003916</td>\n",
       "      <td>0.002030</td>\n",
       "      <td>1.957370e+13</td>\n",
       "      <td>0.156567</td>\n",
       "      <td>0.155463</td>\n",
       "      <td>1.034820e+13</td>\n",
       "      <td>291.100</td>\n",
       "      <td>4.257780e+11</td>\n",
       "      <td>5.918140e+11</td>\n",
       "      <td>0.418629</td>\n",
       "      <td>0.012656</td>\n",
       "      <td>1.291515e-07</td>\n",
       "      <td>1.586250e+13</td>\n",
       "      <td>455.535</td>\n",
       "      <td>1</td>\n",
       "    </tr>\n",
       "    <tr>\n",
       "      <th>...</th>\n",
       "      <td>...</td>\n",
       "      <td>...</td>\n",
       "      <td>...</td>\n",
       "      <td>...</td>\n",
       "      <td>...</td>\n",
       "      <td>...</td>\n",
       "      <td>...</td>\n",
       "      <td>...</td>\n",
       "      <td>...</td>\n",
       "      <td>...</td>\n",
       "      <td>...</td>\n",
       "      <td>...</td>\n",
       "      <td>...</td>\n",
       "      <td>...</td>\n",
       "      <td>...</td>\n",
       "      <td>...</td>\n",
       "      <td>...</td>\n",
       "      <td>...</td>\n",
       "    </tr>\n",
       "    <tr>\n",
       "      <th>19956</th>\n",
       "      <td>42250</td>\n",
       "      <td>0.673888</td>\n",
       "      <td>-0.000586</td>\n",
       "      <td>0.992336</td>\n",
       "      <td>0.005552</td>\n",
       "      <td>3.645580e+12</td>\n",
       "      <td>0.050222</td>\n",
       "      <td>0.049249</td>\n",
       "      <td>2.138080e+12</td>\n",
       "      <td>157.963</td>\n",
       "      <td>8.941730e+10</td>\n",
       "      <td>1.095840e+11</td>\n",
       "      <td>0.175103</td>\n",
       "      <td>0.000735</td>\n",
       "      <td>2.627347e-08</td>\n",
       "      <td>2.971980e+12</td>\n",
       "      <td>239.257</td>\n",
       "      <td>1</td>\n",
       "    </tr>\n",
       "    <tr>\n",
       "      <th>19957</th>\n",
       "      <td>14125</td>\n",
       "      <td>0.600291</td>\n",
       "      <td>0.511659</td>\n",
       "      <td>0.994208</td>\n",
       "      <td>0.008028</td>\n",
       "      <td>1.102430e+13</td>\n",
       "      <td>0.050284</td>\n",
       "      <td>0.050291</td>\n",
       "      <td>3.842520e+12</td>\n",
       "      <td>192.055</td>\n",
       "      <td>1.142230e+11</td>\n",
       "      <td>1.790640e+11</td>\n",
       "      <td>0.269794</td>\n",
       "      <td>0.004380</td>\n",
       "      <td>4.474792e-08</td>\n",
       "      <td>8.273360e+12</td>\n",
       "      <td>336.582</td>\n",
       "      <td>0</td>\n",
       "    </tr>\n",
       "    <tr>\n",
       "      <th>19958</th>\n",
       "      <td>7980</td>\n",
       "      <td>0.819291</td>\n",
       "      <td>0.087059</td>\n",
       "      <td>0.996020</td>\n",
       "      <td>0.009428</td>\n",
       "      <td>1.785580e+13</td>\n",
       "      <td>0.050345</td>\n",
       "      <td>0.049871</td>\n",
       "      <td>1.022700e+13</td>\n",
       "      <td>266.158</td>\n",
       "      <td>3.329330e+11</td>\n",
       "      <td>5.043310e+11</td>\n",
       "      <td>0.469443</td>\n",
       "      <td>0.005942</td>\n",
       "      <td>1.141840e-07</td>\n",
       "      <td>1.428460e+13</td>\n",
       "      <td>403.795</td>\n",
       "      <td>0</td>\n",
       "    </tr>\n",
       "    <tr>\n",
       "      <th>19959</th>\n",
       "      <td>17449</td>\n",
       "      <td>0.656089</td>\n",
       "      <td>0.448431</td>\n",
       "      <td>0.996763</td>\n",
       "      <td>0.007338</td>\n",
       "      <td>8.417910e+12</td>\n",
       "      <td>0.050370</td>\n",
       "      <td>0.050268</td>\n",
       "      <td>5.044200e+12</td>\n",
       "      <td>210.288</td>\n",
       "      <td>2.145610e+11</td>\n",
       "      <td>2.619130e+11</td>\n",
       "      <td>0.259758</td>\n",
       "      <td>0.003220</td>\n",
       "      <td>5.256350e-08</td>\n",
       "      <td>6.927380e+12</td>\n",
       "      <td>317.241</td>\n",
       "      <td>0</td>\n",
       "    </tr>\n",
       "    <tr>\n",
       "      <th>19960</th>\n",
       "      <td>24635</td>\n",
       "      <td>0.785585</td>\n",
       "      <td>0.139620</td>\n",
       "      <td>1.001184</td>\n",
       "      <td>0.006672</td>\n",
       "      <td>6.326310e+12</td>\n",
       "      <td>0.050518</td>\n",
       "      <td>0.050119</td>\n",
       "      <td>3.605870e+12</td>\n",
       "      <td>188.030</td>\n",
       "      <td>1.278160e+11</td>\n",
       "      <td>1.294920e+11</td>\n",
       "      <td>0.209395</td>\n",
       "      <td>0.000821</td>\n",
       "      <td>2.620215e-08</td>\n",
       "      <td>5.074080e+12</td>\n",
       "      <td>285.959</td>\n",
       "      <td>1</td>\n",
       "    </tr>\n",
       "  </tbody>\n",
       "</table>\n",
       "<p>19961 rows × 18 columns</p>\n",
       "</div>"
      ],
      "text/plain": [
       "        ihal     x_pix     y_pix     z_pix      Rrel          Mvir    z_true  \\\n",
       "0       1199  0.544662  0.600756 -0.008298  0.003015  6.412800e+13  0.156403   \n",
       "1       4892  0.184225  0.954721 -0.005059  0.002147  2.315120e+13  0.156524   \n",
       "2       9174  0.711115  0.065371 -0.005023  0.001850  1.481120e+13  0.156525   \n",
       "3       1087  0.275818  0.254107 -0.004566  0.003034  6.535070e+13  0.156542   \n",
       "4       6773  0.444286  0.276345 -0.003916  0.002030  1.957370e+13  0.156567   \n",
       "...      ...       ...       ...       ...       ...           ...       ...   \n",
       "19956  42250  0.673888 -0.000586  0.992336  0.005552  3.645580e+12  0.050222   \n",
       "19957  14125  0.600291  0.511659  0.994208  0.008028  1.102430e+13  0.050284   \n",
       "19958   7980  0.819291  0.087059  0.996020  0.009428  1.785580e+13  0.050345   \n",
       "19959  17449  0.656089  0.448431  0.996763  0.007338  8.417910e+12  0.050370   \n",
       "19960  24635  0.785585  0.139620  1.001184  0.006672  6.326310e+12  0.050518   \n",
       "\n",
       "          z_obs          M500     R500      Mstar500       Mgas500      T500  \\\n",
       "0      0.156474  3.274430e+13  427.372  1.077800e+12  2.716210e+12  0.852811   \n",
       "1      0.155755  1.387060e+13  320.948  3.662060e+11  1.070010e+12  0.546339   \n",
       "2      0.157581  7.888580e+12  265.919  2.633580e+11  4.274600e+11  0.465220   \n",
       "3      0.156442  3.869360e+13  451.823  1.060980e+12  3.463200e+12  1.025380   \n",
       "4      0.155463  1.034820e+13  291.100  4.257780e+11  5.918140e+11  0.418629   \n",
       "...         ...           ...      ...           ...           ...       ...   \n",
       "19956  0.049249  2.138080e+12  157.963  8.941730e+10  1.095840e+11  0.175103   \n",
       "19957  0.050291  3.842520e+12  192.055  1.142230e+11  1.790640e+11  0.269794   \n",
       "19958  0.049871  1.022700e+13  266.158  3.329330e+11  5.043310e+11  0.469443   \n",
       "19959  0.050268  5.044200e+12  210.288  2.145610e+11  2.619130e+11  0.259758   \n",
       "19960  0.050119  3.605870e+12  188.030  1.278160e+11  1.294920e+11  0.209395   \n",
       "\n",
       "          Lx500        Ysz500          M200     R200  flag  \n",
       "0      0.071189  5.602394e-07  5.316070e+13  681.705     1  \n",
       "1      0.029094  2.506972e-07  1.904230e+13  484.132     1  \n",
       "2      0.005180  1.242286e-07  1.295120e+13  425.758     1  \n",
       "3      0.126354  7.684081e-07  5.545200e+13  691.346     1  \n",
       "4      0.012656  1.291515e-07  1.586250e+13  455.535     1  \n",
       "...         ...           ...           ...      ...   ...  \n",
       "19956  0.000735  2.627347e-08  2.971980e+12  239.257     1  \n",
       "19957  0.004380  4.474792e-08  8.273360e+12  336.582     0  \n",
       "19958  0.005942  1.141840e-07  1.428460e+13  403.795     0  \n",
       "19959  0.003220  5.256350e-08  6.927380e+12  317.241     0  \n",
       "19960  0.000821  2.620215e-08  5.074080e+12  285.959     1  \n",
       "\n",
       "[19961 rows x 18 columns]"
      ]
     },
     "execution_count": 4,
     "metadata": {},
     "output_type": "execute_result"
    }
   ],
   "source": [
    "spisok = pd.read_csv(\"../data/eROSITA_30.0x30.0/Catalouges/cluster.dat\", sep='\\s+')\n",
    "spisok"
   ]
  },
  {
   "cell_type": "code",
   "execution_count": 5,
   "id": "6bf0f289",
   "metadata": {},
   "outputs": [
    {
     "data": {
      "text/plain": [
       "(5.23523, 4.94005, 0.017117297, 0.19494483)"
      ]
     },
     "execution_count": 5,
     "metadata": {},
     "output_type": "execute_result"
    }
   ],
   "source": [
    "min(spisok[\"M500\"])/10**11, max(spisok[\"M500\"])/10**14, min(spisok[\"z_true\"]), max(spisok[\"z_true\"])"
   ]
  },
  {
   "cell_type": "markdown",
   "id": "fa1c1eca",
   "metadata": {},
   "source": [
    "## 1. Redshift-based analysis "
   ]
  },
  {
   "cell_type": "code",
   "execution_count": 4,
   "id": "1b870838",
   "metadata": {},
   "outputs": [
    {
     "data": {
      "text/plain": [
       "2.1539604"
      ]
     },
     "execution_count": 4,
     "metadata": {},
     "output_type": "execute_result"
    }
   ],
   "source": [
    "max(spisok[\"z_true\"])"
   ]
  },
  {
   "cell_type": "code",
   "execution_count": 5,
   "id": "796b1bdd",
   "metadata": {},
   "outputs": [
    {
     "data": {
      "text/plain": [
       "114"
      ]
     },
     "execution_count": 5,
     "metadata": {},
     "output_type": "execute_result"
    }
   ],
   "source": [
    "u, c = np.unique(spisok[\"z_true\"], return_counts=True)\n",
    "dup = u[c > 1]\n",
    "len(dup)"
   ]
  },
  {
   "cell_type": "code",
   "execution_count": 75,
   "id": "4db56fa9",
   "metadata": {},
   "outputs": [
    {
     "data": {
      "text/plain": [
       "80610"
      ]
     },
     "execution_count": 75,
     "metadata": {},
     "output_type": "execute_result"
    }
   ],
   "source": [
    "len(u)"
   ]
  },
  {
   "cell_type": "code",
   "execution_count": 76,
   "id": "c4cb86e4",
   "metadata": {},
   "outputs": [
    {
     "data": {
      "text/plain": [
       "80724"
      ]
     },
     "execution_count": 76,
     "metadata": {},
     "output_type": "execute_result"
    }
   ],
   "source": [
    "len(spisok)"
   ]
  },
  {
   "cell_type": "markdown",
   "id": "abca9be8",
   "metadata": {},
   "source": [
    "### Histograms for $z_{true}$. Dashed red line is mean $z$ for each bin."
   ]
  },
  {
   "cell_type": "code",
   "execution_count": 77,
   "id": "10082ec5",
   "metadata": {
    "scrolled": false
   },
   "outputs": [
    {
     "data": {
      "image/png": "[encoded data removed]",
      "text/plain": [
       "<Figure size 640x480 with 1 Axes>"
      ]
     },
     "metadata": {},
     "output_type": "display_data"
    },
    {
     "name": "stdout",
     "output_type": "stream",
     "text": [
      "dz = 0.07903172251851852 * 27 = 2.133856508 === 2.133856508\n",
      "left borders: [0.02010389 0.09913561 0.17816734 0.25719906 0.33623078 0.4152625\n",
      " 0.49429423 0.57332595 0.65235767 0.73138939 0.81042112 0.88945284\n",
      " 0.96848456 1.04751628 1.12654801 1.20557973 1.28461145 1.36364317\n",
      " 1.4426749  1.52170662 1.60073834 1.67977006 1.75880179 1.83783351\n",
      " 1.91686523 1.99589695 2.07492868 2.1539604 ]\n",
      "centers [0.05961975 0.13865148 0.2176832  0.29671492 0.37574664 0.45477837\n",
      " 0.53381009 0.61284181 0.69187353 0.77090526 0.84993698 0.9289687\n",
      " 1.00800042 1.08703215 1.16606387 1.24509559 1.32412731 1.40315904\n",
      " 1.48219076 1.56122248 1.6402542  1.71928593 1.79831765 1.87734937\n",
      " 1.95638109 2.03541282 2.11444454]\n"
     ]
    }
   ],
   "source": [
    "z_all = spisok[\"z_true\"]\n",
    "\n",
    "# number of photon lists\n",
    "\n",
    "N = 27 # 5x5\n",
    "#N = 5 # 30x30\n",
    "\n",
    "dndz, z_left, bars_z = plt.hist(z_all, bins=N, histtype='barstacked')\n",
    "plt.yscale('log')\n",
    "plt.xlabel(\"$z_{ \\ true}$\", fontsize = 15)\n",
    "plt.ylabel(\"Number of clusters\")\n",
    "#plt.grid()\n",
    "\n",
    "dz = np.diff(z_left)[0]        # it is the same for each bin\n",
    "z_binned = z_left[:-1]+dz/2    # array of centers of each bin\n",
    "\n",
    "for _ in z_binned:\n",
    "    plt.axvline(_, color='r', linestyle=\"--\", alpha = 0.5)\n",
    "\n",
    "plt.show()\n",
    "\n",
    "print('dz =', dz, '*', N, '=', dz*N, '===', max(z_all)-min(z_all))\n",
    "print('left borders:', z_left)\n",
    "#print(np.diff(z_left)[0]/2)\n",
    "print('centers', z_binned)"
   ]
  },
  {
   "cell_type": "code",
   "execution_count": 78,
   "id": "a5ae123b",
   "metadata": {},
   "outputs": [
    {
     "data": {
      "text/plain": [
       "array([ 116.,  271.,  636.,  996., 1673., 2213., 2640., 3147., 3315.,\n",
       "       3748., 4270., 4096., 4531., 4169., 4617., 4374., 4186., 4007.,\n",
       "       3997., 3871., 3433., 3304., 3089., 2594., 2626., 2424., 2381.])"
      ]
     },
     "execution_count": 78,
     "metadata": {},
     "output_type": "execute_result"
    }
   ],
   "source": [
    "dndz"
   ]
  },
  {
   "cell_type": "markdown",
   "id": "028474e2",
   "metadata": {},
   "source": [
    "#### Dictionary keys are mean redshifts for bins. All masses corresponding to certain bin will be the values."
   ]
  },
  {
   "cell_type": "code",
   "execution_count": 173,
   "id": "a3a46855",
   "metadata": {
    "scrolled": false
   },
   "outputs": [
    {
     "data": {
      "text/plain": [
       "{0.059619753259259264: [],\n",
       " 0.13865147577777778: [],\n",
       " 0.21768319829629632: [],\n",
       " 0.2967149208148148: [],\n",
       " 0.37574664333333335: [],\n",
       " 0.4547783658518519: [],\n",
       " 0.5338100883703704: [],\n",
       " 0.6128418108888888: [],\n",
       " 0.6918735334074073: [],\n",
       " 0.7709052559259258: [],\n",
       " 0.8499369784444444: [],\n",
       " 0.9289687009629629: [],\n",
       " 1.0080004234814814: [],\n",
       " 1.087032146: [],\n",
       " 1.1660638685185185: [],\n",
       " 1.2450955910370372: [],\n",
       " 1.3241273135555556: [],\n",
       " 1.403159036074074: [],\n",
       " 1.4821907585925926: [],\n",
       " 1.561222481111111: [],\n",
       " 1.6402542036296297: [],\n",
       " 1.7192859261481481: [],\n",
       " 1.7983176486666668: [],\n",
       " 1.8773493711851852: [],\n",
       " 1.9563810937037036: [],\n",
       " 2.0354128162222223: [],\n",
       " 2.1144445387407407: []}"
      ]
     },
     "execution_count": 173,
     "metadata": {},
     "output_type": "execute_result"
    }
   ],
   "source": [
    "dictionary = {}\n",
    "\n",
    "for zz in z_binned:\n",
    "    dictionary[zz] = []\n",
    "    \n",
    "dictionary"
   ]
  },
  {
   "cell_type": "markdown",
   "id": "b7837fa1",
   "metadata": {},
   "source": [
    "#### Extracting $M_{500}$ and $z_{true}$."
   ]
  },
  {
   "cell_type": "code",
   "execution_count": 174,
   "id": "4786f880",
   "metadata": {},
   "outputs": [
    {
     "data": {
      "text/plain": [
       "(array([2.33317e+12, 2.34391e+12, 2.81371e+12, ..., 1.69391e+12,\n",
       "        1.73655e+12, 2.70652e+13]),\n",
       " array([1.8412886 , 1.8413752 , 1.8413808 , ..., 0.0404726 , 0.04682363,\n",
       "        0.04745632]))"
      ]
     },
     "execution_count": 174,
     "metadata": {},
     "output_type": "execute_result"
    }
   ],
   "source": [
    "M500_all = spisok[\"M500\"].to_numpy().astype(float)\n",
    "z_all = spisok[\"z_true\"].to_numpy().astype(float)\n",
    "t = list(zip(z_all, M500_all))\n",
    "M500_all, z_all"
   ]
  },
  {
   "cell_type": "code",
   "execution_count": 175,
   "id": "3f04be42",
   "metadata": {
    "scrolled": true
   },
   "outputs": [],
   "source": [
    "for _ in t:\n",
    "    #print(_)\n",
    "    z_current = _[0]\n",
    "    for z_l in z_left[:-1]:\n",
    "        if (z_current>=z_l) and (z_current<z_l+dz):\n",
    "            #print(z_current, 'is between', z_l, 'and', z_l+dz)\n",
    "            dictionary[z_l+dz/2].append(_[1])\n",
    "        else:\n",
    "            pass"
   ]
  },
  {
   "cell_type": "code",
   "execution_count": 176,
   "id": "78896e9f",
   "metadata": {
    "scrolled": true
   },
   "outputs": [
    {
     "data": {
      "text/plain": [
       "80723"
      ]
     },
     "execution_count": 176,
     "metadata": {},
     "output_type": "execute_result"
    }
   ],
   "source": [
    "summ = 0\n",
    "for i in z_binned:\n",
    "    summ = summ + len(dictionary[i])\n",
    "summ"
   ]
  },
  {
   "cell_type": "markdown",
   "id": "b292f401",
   "metadata": {},
   "source": [
    "## 2. Cosmology"
   ]
  },
  {
   "cell_type": "markdown",
   "id": "bbfdb910",
   "metadata": {},
   "source": [
    "#### Let's define some functions:"
   ]
  },
  {
   "cell_type": "code",
   "execution_count": 177,
   "id": "b05b73fb",
   "metadata": {},
   "outputs": [],
   "source": [
    "from astropy.cosmology import FlatLambdaCDM, LambdaCDM\n",
    "\n",
    "#Cosmological Parameters from Magneticum:\n",
    "Omega_M = 0.272\n",
    "Omega_B = 0.0456      #(= 16.8 %)\n",
    "Omega_L = 0.728\n",
    "h = 0.704\n",
    "n = 0.963\n",
    "sigma_8 = 0.809"
   ]
  },
  {
   "cell_type": "markdown",
   "id": "9a5947d8",
   "metadata": {},
   "source": [
    "#### Comoving volume\n",
    "\n",
    "From [Hogg (1999)](https://arxiv.org/pdf/astro-ph/9905116.pdf):\n",
    "\n",
    "(28) $dV_C = D_H \\frac{(1+z)^2 D^2_A}{E(z)}d \\Omega dz$\n",
    "\n",
    "where\n",
    "\n",
    "(4) $D_{\\mathrm{H}} \\equiv \\frac{c}{H_{0}}=3000 h^{-1} \\mathrm{Mpc}=9.26 \\times 10^{25} h^{-1} \\mathrm{~m}$\n",
    "\n",
    "and\n",
    "\n",
    "(14) $E(z) \\equiv \\sqrt{\\Omega_{\\mathrm{M}}(1+z)^{3}+\\Omega_{k}(1+z)^{2}+\\Omega_{\\Lambda}}$"
   ]
  },
  {
   "cell_type": "code",
   "execution_count": 178,
   "id": "84d9ba15",
   "metadata": {},
   "outputs": [],
   "source": [
    "h = 0.704\n",
    "D_H = 3000/h #Mpc\n",
    "\n",
    "def dif_comoving_volume(z, O_M, O_L):\n",
    "    \n",
    "    # Omega_M = 1\n",
    "    # Omega_L = 0\n",
    "    \n",
    "    # h = 0.704\n",
    "    # D_H = 3000/h #Mpc\n",
    "    \n",
    "    E = np.sqrt(O_M*(1+z)**3+O_L)\n",
    "    \n",
    "    D_A = LambdaCDM(H0=100*h, Om0=O_M, Ode0=O_L).angular_diameter_distance(z) #Mpc\n",
    "\n",
    "    dif_com_vol = D_H*(1+z)**2*D_A.value**2/E \n",
    "    \n",
    "    return dif_com_vol/D_H**3 # this is [1/D_H]**3 dV_c / dOmega / dz"
   ]
  },
  {
   "cell_type": "markdown",
   "id": "42ed4e60",
   "metadata": {},
   "source": [
    "#### Figure 5 from https://arxiv.org/pdf/astro-ph/9905116.pdf"
   ]
  },
  {
   "cell_type": "code",
   "execution_count": 179,
   "id": "7699d001",
   "metadata": {
    "scrolled": false
   },
   "outputs": [
    {
     "name": "stdout",
     "output_type": "stream",
     "text": [
      "dz = 0.07903172251851852\n"
     ]
    },
    {
     "data": {
      "image/png": "[encoded data removed]",
      "text/plain": [
       "<Figure size 500x500 with 1 Axes>"
      ]
     },
     "metadata": {},
     "output_type": "display_data"
    }
   ],
   "source": [
    "print('dz =', dz)\n",
    "\n",
    "plt.figure(figsize=(5,5))\n",
    "\n",
    "x = np.linspace(0, 5, 50)\n",
    "\n",
    "y = dif_comoving_volume(x, 1, 0)\n",
    "\n",
    "yy = dif_comoving_volume(x, 0.05, 0)\n",
    "\n",
    "yyy = dif_comoving_volume(x, 0.2, 0.8)\n",
    "\n",
    "#for _ in z_binned:\n",
    "#    plt.axvline(_, color='r', linestyle=\"--\", alpha = 0.5)\n",
    "    \n",
    "plt.plot(x, y, color='black', linestyle = '-')\n",
    "plt.plot(x, yy, color='black', linestyle = ':')\n",
    "plt.plot(x, yyy, color='black', linestyle = '--')\n",
    "\n",
    "# Differential comoving volume per redshift per steradian at each input redshift\n",
    "\n",
    "plt.plot(x, FlatLambdaCDM(H0=100*h, Om0=1).differential_comoving_volume(x)/D_H**3, alpha=0.5, linewidth=5)\n",
    "plt.plot(x, LambdaCDM(H0=100*h, Om0=0.05, Ode0=0).differential_comoving_volume(x)/D_H**3, alpha=0.5, linewidth=5)\n",
    "plt.plot(x, FlatLambdaCDM(H0=100*h, Om0=0.2).differential_comoving_volume(x)/D_H**3, alpha=0.5, linewidth=5)\n",
    "\n",
    "plt.xlabel('redshift $z$', fontsize=15)\n",
    "plt.ylabel('Differential comoving volume, $[ \\ 1 / D_H \\ ]^3 \\ dV_c \\ / \\ dz \\ / \\ d\\Omega$', fontsize=10)\n",
    "plt.grid()\n",
    "plt.xlim(0, 5)\n",
    "plt.ylim(0, 1.1)\n",
    "plt.show()"
   ]
  },
  {
   "cell_type": "markdown",
   "id": "5d1d0f70",
   "metadata": {},
   "source": [
    "$\\bar{\\rho}_{m}(z) \\equiv \\Omega_{m}(z) \\rho_{\\mathrm{crit}}(z)=\\bar{\\rho}_{m}(0)(1+z)^{3}$ (Tinker 2008) only if $\\Omega_M=1, \\Omega_{\\Lambda}=0$ (because $\\rho_{crit} \\sim H^2 \\sim E^2(z)$ )\n",
    "\n",
    "$\\rho_{crit} = {3 H^2}/{8 \\pi G} = 1,88 \\cdot 10^{-26} h^2$ кг/м$^3$"
   ]
  },
  {
   "cell_type": "code",
   "execution_count": 180,
   "id": "ebb85fca",
   "metadata": {
    "scrolled": true
   },
   "outputs": [
    {
     "name": "stdout",
     "output_type": "stream",
     "text": [
      "Let's check at z = 0.5:\n",
      "my: 460.99411089755836\n",
      "astropy: 459.0033235851253\n",
      "above: 458.8606819006658\n"
     ]
    }
   ],
   "source": [
    "def rho_crit(z, O_M, O_L):\n",
    "    \n",
    "    h = 0.704\n",
    "    \n",
    "    E_z_2 = O_M*(1+z)**3+O_L\n",
    "    E_z = np.sqrt(E_z_2)\n",
    "    #print(E_z)\n",
    "    \n",
    "    H = 100*h #km /s /Mpc\n",
    "    \n",
    "    # at z=0 \n",
    "    # E_z_2 = 1\n",
    "#    print('z = 0')\n",
    "    \n",
    "    # 1 pc = 3.08e16 m = 3.08e13 km\n",
    "    # 1 Mpc = 3.08e19 km\n",
    "    \n",
    "    rho_crit = 3.*(H/3.08e19)**2/8./np.pi/6.67e-11/h**2\n",
    "#    print(rho_crit, \"h^2 kg/m^3$\")\n",
    "    \n",
    "    #rho_crit = E_z_2* 3.*((70.*70.)/(8.*np.pi*4.302)) #in units of Msun/kpc^3\n",
    "    #print(rho_crit, \"Msun/kpc^3\")\n",
    "    \n",
    "    rho_crit = rho_crit*(3.08e19)**3/2e30\n",
    "#    print(rho_crit, \"h^2 Msun/kpc^3\")\n",
    "    \n",
    "    #at z!=0\n",
    "#    print('z =',z)\n",
    "    \n",
    "    rho_crit = rho_crit*E_z_2\n",
    "#    print(rho_crit, \"h^2 Msun/kpc^3 \")\n",
    "\n",
    "    rho_crit = rho_crit*h**2\n",
    "#    print(rho_crit, \"Msun/kpc^3 \")\n",
    "     \n",
    "    return rho_crit # Msun/kpc^3\n",
    "\n",
    "print('Let\\'s check at z = 0.5:')\n",
    "print('my:', rho_crit(0.5, 1, 0)) \n",
    "print('astropy:', FlatLambdaCDM(H0=100*h, Om0=1).critical_density(0.5).value*(3.08e21)**3/2e33 )\n",
    "print('above:', 3.*((70.*70.)/(8.*np.pi*4.302)) * (1+0.5)**3 )"
   ]
  },
  {
   "cell_type": "markdown",
   "id": "205303ce",
   "metadata": {},
   "source": [
    "## 3. Let's check everything for one certain z (in one certain bin of z):"
   ]
  },
  {
   "cell_type": "code",
   "execution_count": 192,
   "id": "910be3af",
   "metadata": {
    "scrolled": false
   },
   "outputs": [
    {
     "name": "stdout",
     "output_type": "stream",
     "text": [
      "0.059619753259259264\n",
      "116\n"
     ]
    }
   ],
   "source": [
    "zzz = z_binned[0]\n",
    "print(zzz)\n",
    "masses = dictionary[zzz]\n",
    "print(len(masses))"
   ]
  },
  {
   "cell_type": "code",
   "execution_count": 193,
   "id": "b5b2653f",
   "metadata": {},
   "outputs": [
    {
     "data": {
      "text/plain": [
       "(12.128266762837846, 14.1081250947386)"
      ]
     },
     "execution_count": 193,
     "metadata": {},
     "output_type": "execute_result"
    }
   ],
   "source": [
    "np.log10(min(masses)), np.log10(max(masses))"
   ]
  },
  {
   "cell_type": "markdown",
   "id": "59a30cb0",
   "metadata": {},
   "source": [
    "Critical density for this z and for cosmology appreciated in Magneticum:"
   ]
  },
  {
   "cell_type": "code",
   "execution_count": 194,
   "id": "f0a5147d",
   "metadata": {},
   "outputs": [
    {
     "name": "stdout",
     "output_type": "stream",
     "text": [
      "rho_crit = 143.64000695939845 Msun/kpc^3 = 289.82116590142056 h^2 Msun/kpc^3\n"
     ]
    }
   ],
   "source": [
    "print('rho_crit =', rho_crit(zzz, Omega_M, Omega_L), 'Msun/kpc^3 =', \n",
    "      rho_crit(zzz, Omega_M, Omega_L)/h**2, 'h^2 Msun/kpc^3')"
   ]
  },
  {
   "cell_type": "code",
   "execution_count": 195,
   "id": "eebfd09e",
   "metadata": {},
   "outputs": [
    {
     "data": {
      "text/plain": [
       "143.01970249855447"
      ]
     },
     "execution_count": 195,
     "metadata": {},
     "output_type": "execute_result"
    }
   ],
   "source": [
    "FlatLambdaCDM(H0=100*h, Om0=Omega_M).critical_density(zzz).value*(3.08e21)**3/2e33"
   ]
  },
  {
   "cell_type": "markdown",
   "id": "64820b76",
   "metadata": {},
   "source": [
    "Considering the fact that we work in 5.0x5.0 deg field we obtain differential comoving volume in physical units for this z and for cosmology appreciated:"
   ]
  },
  {
   "cell_type": "code",
   "execution_count": 196,
   "id": "8af8e5fa",
   "metadata": {},
   "outputs": [
    {
     "name": "stdout",
     "output_type": "stream",
     "text": [
      "157256.83318693162 Mpc^3\n"
     ]
    }
   ],
   "source": [
    "def phys_dcv(z, ddz, O_M, O_L):\n",
    "\n",
    "    side = 5*np.pi/180 #rad\n",
    "\n",
    "    dOmega=side**2\n",
    "\n",
    "    return dif_comoving_volume(z, O_M, O_L) * dOmega * ddz * D_H**3 # Mpc^3\n",
    "\n",
    "print(phys_dcv(zzz, dz, Omega_M, Omega_L), 'Mpc^3')"
   ]
  },
  {
   "cell_type": "markdown",
   "id": "94ae2f85",
   "metadata": {},
   "source": [
    "##### See [HERE](https://astronomy.stackexchange.com/questions/44380/comoving-volume-calculation) and picture below for explanation of comoving volume that was used."
   ]
  },
  {
   "attachments": {
    "image-2.png": {
     "image/png": "[encoded data removed]"
    }
   },
   "cell_type": "markdown",
   "id": "a62fa671",
   "metadata": {},
   "source": [
    "![image-2.png](attachment:image-2.png)"
   ]
  },
  {
   "cell_type": "code",
   "execution_count": 197,
   "id": "5bf520f3",
   "metadata": {},
   "outputs": [
    {
     "name": "stdout",
     "output_type": "stream",
     "text": [
      "177801.44218697524 Mpc^3\n"
     ]
    }
   ],
   "source": [
    "def phys_dcv_new(z, ddz, O_M, O_L):\n",
    "    \n",
    "    side = 5*np.pi/180 #rad\n",
    "    \n",
    "    dOmega=side**2\n",
    "    \n",
    "    V_big = FlatLambdaCDM(H0=100*h, Om0=O_M).comoving_volume(z+ddz/2)\n",
    "    V_small = FlatLambdaCDM(H0=100*h, Om0=O_M).comoving_volume(z-ddz/2)\n",
    "    \n",
    "    return dOmega/4/np.pi * (V_big - V_small).value\n",
    "\n",
    "print(phys_dcv_new(zzz, dz, Omega_M, Omega_L), 'Mpc^3')"
   ]
  },
  {
   "cell_type": "markdown",
   "id": "e79bb9ae",
   "metadata": {},
   "source": [
    "Checking in `astropy`:"
   ]
  },
  {
   "cell_type": "code",
   "execution_count": 198,
   "id": "44e15f0e",
   "metadata": {},
   "outputs": [],
   "source": [
    "from astropy import units"
   ]
  },
  {
   "cell_type": "code",
   "execution_count": 199,
   "id": "a7bae7d6",
   "metadata": {
    "scrolled": true
   },
   "outputs": [
    {
     "data": {
      "text/latex": [
       "$5 \\; \\mathrm{{}^{\\circ}}$"
      ],
      "text/plain": [
       "<Quantity 5. deg>"
      ]
     },
     "execution_count": 199,
     "metadata": {},
     "output_type": "execute_result"
    }
   ],
   "source": [
    "babab = 5*units.deg\n",
    "babab"
   ]
  },
  {
   "cell_type": "code",
   "execution_count": 200,
   "id": "b51b2155",
   "metadata": {},
   "outputs": [
    {
     "name": "stdout",
     "output_type": "stream",
     "text": [
      "515886589.7143643 deg2 Mpc3 / sr\n"
     ]
    },
    {
     "data": {
      "text/latex": [
       "$157148.04 \\; \\mathrm{Mpc^{3}}$"
      ],
      "text/plain": [
       "<Quantity 157148.04186135 Mpc3>"
      ]
     },
     "execution_count": 200,
     "metadata": {},
     "output_type": "execute_result"
    }
   ],
   "source": [
    "vpolne = FlatLambdaCDM(H0=100*h, Om0=Omega_M).differential_comoving_volume(zzz)*babab**2*dz\n",
    "print(vpolne)\n",
    "vpolne.to(units.Mpc**3)"
   ]
  },
  {
   "cell_type": "code",
   "execution_count": 201,
   "id": "abe66b3f",
   "metadata": {},
   "outputs": [
    {
     "data": {
      "text/plain": [
       "28602203.137900535"
      ]
     },
     "execution_count": 201,
     "metadata": {},
     "output_type": "execute_result"
    }
   ],
   "source": [
    "phys_dcv(1.5, 0.1, Omega_M, Omega_L)"
   ]
  },
  {
   "cell_type": "code",
   "execution_count": 202,
   "id": "599228fe",
   "metadata": {},
   "outputs": [
    {
     "data": {
      "text/plain": [
       "28575568.616112053"
      ]
     },
     "execution_count": 202,
     "metadata": {},
     "output_type": "execute_result"
    }
   ],
   "source": [
    "phys_dcv_new(1.5, 0.1, Omega_M, Omega_L)"
   ]
  },
  {
   "cell_type": "code",
   "execution_count": 264,
   "id": "4a7e52c9",
   "metadata": {},
   "outputs": [
    {
     "data": {
      "text/plain": [
       "30"
      ]
     },
     "execution_count": 264,
     "metadata": {},
     "output_type": "execute_result"
    }
   ],
   "source": [
    "len(np.ones(N1)/len(masses))"
   ]
  },
  {
   "cell_type": "code",
   "execution_count": null,
   "id": "75d2b467",
   "metadata": {},
   "outputs": [],
   "source": []
  },
  {
   "cell_type": "markdown",
   "id": "3a2caf88",
   "metadata": {},
   "source": [
    "### Mass functions:"
   ]
  },
  {
   "cell_type": "code",
   "execution_count": 266,
   "id": "0649a0f5",
   "metadata": {
    "scrolled": false
   },
   "outputs": [
    {
     "ename": "ValueError",
     "evalue": "weights should have the same shape as x",
     "output_type": "error",
     "traceback": [
      "\u001b[0;31m---------------------------------------------------------------------------\u001b[0m",
      "\u001b[0;31mValueError\u001b[0m                                Traceback (most recent call last)",
      "Cell \u001b[0;32mIn [266], line 14\u001b[0m\n\u001b[1;32m     10\u001b[0m beans \u001b[38;5;241m=\u001b[39m np\u001b[38;5;241m.\u001b[39mlogspace(np\u001b[38;5;241m.\u001b[39mlog10(\u001b[38;5;28mmin\u001b[39m(masses)), np\u001b[38;5;241m.\u001b[39mlog10(\u001b[38;5;28mmax\u001b[39m(masses)), N1\u001b[38;5;241m+\u001b[39m\u001b[38;5;241m1\u001b[39m) \n\u001b[1;32m     12\u001b[0m \u001b[38;5;66;03m#beans = np.linspace(min(masses), max(masses), N1+1)\u001b[39;00m\n\u001b[0;32m---> 14\u001b[0m dNdM, M_left, bars_M \u001b[38;5;241m=\u001b[39m \u001b[43mplt\u001b[49m\u001b[38;5;241;43m.\u001b[39;49m\u001b[43mhist\u001b[49m\u001b[43m(\u001b[49m\u001b[43mmasses\u001b[49m\u001b[43m,\u001b[49m\u001b[43m \u001b[49m\n\u001b[1;32m     15\u001b[0m \u001b[43m                                \u001b[49m\u001b[43mbins\u001b[49m\u001b[38;5;241;43m=\u001b[39;49m\u001b[43mbeans\u001b[49m\u001b[43m,\u001b[49m\u001b[43m \u001b[49m\n\u001b[1;32m     16\u001b[0m \u001b[43m                                \u001b[49m\u001b[43mcolor\u001b[49m\u001b[38;5;241;43m=\u001b[39;49m\u001b[38;5;124;43m'\u001b[39;49m\u001b[38;5;124;43mgreen\u001b[39;49m\u001b[38;5;124;43m'\u001b[39;49m\u001b[43m,\u001b[49m\u001b[43m \u001b[49m\n\u001b[1;32m     17\u001b[0m \u001b[43m                                \u001b[49m\u001b[43mhisttype\u001b[49m\u001b[38;5;241;43m=\u001b[39;49m\u001b[38;5;124;43m'\u001b[39;49m\u001b[38;5;124;43mbarstacked\u001b[39;49m\u001b[38;5;124;43m'\u001b[39;49m\u001b[43m,\u001b[49m\n\u001b[1;32m     18\u001b[0m \u001b[43m                                \u001b[49m\u001b[43mlog\u001b[49m\u001b[38;5;241;43m=\u001b[39;49m\u001b[38;5;28;43;01mFalse\u001b[39;49;00m\u001b[43m,\u001b[49m\n\u001b[1;32m     19\u001b[0m \u001b[43m                                \u001b[49m\u001b[43mweights\u001b[49m\u001b[43m \u001b[49m\u001b[38;5;241;43m=\u001b[39;49m\u001b[43m \u001b[49m\u001b[43mnp\u001b[49m\u001b[38;5;241;43m.\u001b[39;49m\u001b[43mones\u001b[49m\u001b[43m(\u001b[49m\u001b[43mN1\u001b[49m\u001b[43m)\u001b[49m\u001b[38;5;241;43m/\u001b[39;49m\u001b[43mN1\u001b[49m\u001b[43m,\u001b[49m\n\u001b[1;32m     20\u001b[0m \u001b[43m                                \u001b[49m\u001b[43mlabel\u001b[49m\u001b[43m \u001b[49m\u001b[38;5;241;43m=\u001b[39;49m\u001b[43m \u001b[49m\u001b[38;5;124;43m'\u001b[39;49m\u001b[38;5;124;43mz = \u001b[39;49m\u001b[38;5;124;43m'\u001b[39;49m\u001b[38;5;241;43m+\u001b[39;49m\u001b[38;5;124;43mf\u001b[39;49m\u001b[38;5;124;43m\"\u001b[39;49m\u001b[38;5;132;43;01m{\u001b[39;49;00m\u001b[43mzzz\u001b[49m\u001b[38;5;132;43;01m:\u001b[39;49;00m\u001b[38;5;124;43m.3f\u001b[39;49m\u001b[38;5;132;43;01m}\u001b[39;49;00m\u001b[38;5;124;43m\"\u001b[39;49m\u001b[43m)\u001b[49m\n\u001b[1;32m     22\u001b[0m plt\u001b[38;5;241m.\u001b[39mxscale(\u001b[38;5;124m'\u001b[39m\u001b[38;5;124mlog\u001b[39m\u001b[38;5;124m'\u001b[39m)\n\u001b[1;32m     23\u001b[0m plt\u001b[38;5;241m.\u001b[39myscale(\u001b[38;5;124m'\u001b[39m\u001b[38;5;124mlog\u001b[39m\u001b[38;5;124m'\u001b[39m)\n",
      "File \u001b[0;32m/usr/lib/python3/dist-packages/matplotlib/pyplot.py:2590\u001b[0m, in \u001b[0;36mhist\u001b[0;34m(x, bins, range, density, weights, cumulative, bottom, histtype, align, orientation, rwidth, log, color, label, stacked, data, **kwargs)\u001b[0m\n\u001b[1;32m   2584\u001b[0m \u001b[38;5;129m@_copy_docstring_and_deprecators\u001b[39m(Axes\u001b[38;5;241m.\u001b[39mhist)\n\u001b[1;32m   2585\u001b[0m \u001b[38;5;28;01mdef\u001b[39;00m \u001b[38;5;21mhist\u001b[39m(\n\u001b[1;32m   2586\u001b[0m         x, bins\u001b[38;5;241m=\u001b[39m\u001b[38;5;28;01mNone\u001b[39;00m, \u001b[38;5;28mrange\u001b[39m\u001b[38;5;241m=\u001b[39m\u001b[38;5;28;01mNone\u001b[39;00m, density\u001b[38;5;241m=\u001b[39m\u001b[38;5;28;01mFalse\u001b[39;00m, weights\u001b[38;5;241m=\u001b[39m\u001b[38;5;28;01mNone\u001b[39;00m,\n\u001b[1;32m   2587\u001b[0m         cumulative\u001b[38;5;241m=\u001b[39m\u001b[38;5;28;01mFalse\u001b[39;00m, bottom\u001b[38;5;241m=\u001b[39m\u001b[38;5;28;01mNone\u001b[39;00m, histtype\u001b[38;5;241m=\u001b[39m\u001b[38;5;124m'\u001b[39m\u001b[38;5;124mbar\u001b[39m\u001b[38;5;124m'\u001b[39m, align\u001b[38;5;241m=\u001b[39m\u001b[38;5;124m'\u001b[39m\u001b[38;5;124mmid\u001b[39m\u001b[38;5;124m'\u001b[39m,\n\u001b[1;32m   2588\u001b[0m         orientation\u001b[38;5;241m=\u001b[39m\u001b[38;5;124m'\u001b[39m\u001b[38;5;124mvertical\u001b[39m\u001b[38;5;124m'\u001b[39m, rwidth\u001b[38;5;241m=\u001b[39m\u001b[38;5;28;01mNone\u001b[39;00m, log\u001b[38;5;241m=\u001b[39m\u001b[38;5;28;01mFalse\u001b[39;00m, color\u001b[38;5;241m=\u001b[39m\u001b[38;5;28;01mNone\u001b[39;00m,\n\u001b[1;32m   2589\u001b[0m         label\u001b[38;5;241m=\u001b[39m\u001b[38;5;28;01mNone\u001b[39;00m, stacked\u001b[38;5;241m=\u001b[39m\u001b[38;5;28;01mFalse\u001b[39;00m, \u001b[38;5;241m*\u001b[39m, data\u001b[38;5;241m=\u001b[39m\u001b[38;5;28;01mNone\u001b[39;00m, \u001b[38;5;241m*\u001b[39m\u001b[38;5;241m*\u001b[39mkwargs):\n\u001b[0;32m-> 2590\u001b[0m     \u001b[38;5;28;01mreturn\u001b[39;00m \u001b[43mgca\u001b[49m\u001b[43m(\u001b[49m\u001b[43m)\u001b[49m\u001b[38;5;241;43m.\u001b[39;49m\u001b[43mhist\u001b[49m\u001b[43m(\u001b[49m\n\u001b[1;32m   2591\u001b[0m \u001b[43m        \u001b[49m\u001b[43mx\u001b[49m\u001b[43m,\u001b[49m\u001b[43m \u001b[49m\u001b[43mbins\u001b[49m\u001b[38;5;241;43m=\u001b[39;49m\u001b[43mbins\u001b[49m\u001b[43m,\u001b[49m\u001b[43m \u001b[49m\u001b[38;5;28;43mrange\u001b[39;49m\u001b[38;5;241;43m=\u001b[39;49m\u001b[38;5;28;43mrange\u001b[39;49m\u001b[43m,\u001b[49m\u001b[43m \u001b[49m\u001b[43mdensity\u001b[49m\u001b[38;5;241;43m=\u001b[39;49m\u001b[43mdensity\u001b[49m\u001b[43m,\u001b[49m\u001b[43m \u001b[49m\u001b[43mweights\u001b[49m\u001b[38;5;241;43m=\u001b[39;49m\u001b[43mweights\u001b[49m\u001b[43m,\u001b[49m\n\u001b[1;32m   2592\u001b[0m \u001b[43m        \u001b[49m\u001b[43mcumulative\u001b[49m\u001b[38;5;241;43m=\u001b[39;49m\u001b[43mcumulative\u001b[49m\u001b[43m,\u001b[49m\u001b[43m \u001b[49m\u001b[43mbottom\u001b[49m\u001b[38;5;241;43m=\u001b[39;49m\u001b[43mbottom\u001b[49m\u001b[43m,\u001b[49m\u001b[43m \u001b[49m\u001b[43mhisttype\u001b[49m\u001b[38;5;241;43m=\u001b[39;49m\u001b[43mhisttype\u001b[49m\u001b[43m,\u001b[49m\n\u001b[1;32m   2593\u001b[0m \u001b[43m        \u001b[49m\u001b[43malign\u001b[49m\u001b[38;5;241;43m=\u001b[39;49m\u001b[43malign\u001b[49m\u001b[43m,\u001b[49m\u001b[43m \u001b[49m\u001b[43morientation\u001b[49m\u001b[38;5;241;43m=\u001b[39;49m\u001b[43morientation\u001b[49m\u001b[43m,\u001b[49m\u001b[43m \u001b[49m\u001b[43mrwidth\u001b[49m\u001b[38;5;241;43m=\u001b[39;49m\u001b[43mrwidth\u001b[49m\u001b[43m,\u001b[49m\u001b[43m \u001b[49m\u001b[43mlog\u001b[49m\u001b[38;5;241;43m=\u001b[39;49m\u001b[43mlog\u001b[49m\u001b[43m,\u001b[49m\n\u001b[1;32m   2594\u001b[0m \u001b[43m        \u001b[49m\u001b[43mcolor\u001b[49m\u001b[38;5;241;43m=\u001b[39;49m\u001b[43mcolor\u001b[49m\u001b[43m,\u001b[49m\u001b[43m \u001b[49m\u001b[43mlabel\u001b[49m\u001b[38;5;241;43m=\u001b[39;49m\u001b[43mlabel\u001b[49m\u001b[43m,\u001b[49m\u001b[43m \u001b[49m\u001b[43mstacked\u001b[49m\u001b[38;5;241;43m=\u001b[39;49m\u001b[43mstacked\u001b[49m\u001b[43m,\u001b[49m\n\u001b[1;32m   2595\u001b[0m \u001b[43m        \u001b[49m\u001b[38;5;241;43m*\u001b[39;49m\u001b[38;5;241;43m*\u001b[39;49m\u001b[43m(\u001b[49m\u001b[43m{\u001b[49m\u001b[38;5;124;43m\"\u001b[39;49m\u001b[38;5;124;43mdata\u001b[39;49m\u001b[38;5;124;43m\"\u001b[39;49m\u001b[43m:\u001b[49m\u001b[43m \u001b[49m\u001b[43mdata\u001b[49m\u001b[43m}\u001b[49m\u001b[43m \u001b[49m\u001b[38;5;28;43;01mif\u001b[39;49;00m\u001b[43m \u001b[49m\u001b[43mdata\u001b[49m\u001b[43m \u001b[49m\u001b[38;5;129;43;01mis\u001b[39;49;00m\u001b[43m \u001b[49m\u001b[38;5;129;43;01mnot\u001b[39;49;00m\u001b[43m \u001b[49m\u001b[38;5;28;43;01mNone\u001b[39;49;00m\u001b[43m \u001b[49m\u001b[38;5;28;43;01melse\u001b[39;49;00m\u001b[43m \u001b[49m\u001b[43m{\u001b[49m\u001b[43m}\u001b[49m\u001b[43m)\u001b[49m\u001b[43m,\u001b[49m\u001b[43m \u001b[49m\u001b[38;5;241;43m*\u001b[39;49m\u001b[38;5;241;43m*\u001b[39;49m\u001b[43mkwargs\u001b[49m\u001b[43m)\u001b[49m\n",
      "File \u001b[0;32m/usr/lib/python3/dist-packages/matplotlib/__init__.py:1416\u001b[0m, in \u001b[0;36m_preprocess_data.<locals>.inner\u001b[0;34m(ax, data, *args, **kwargs)\u001b[0m\n\u001b[1;32m   1413\u001b[0m \u001b[38;5;129m@functools\u001b[39m\u001b[38;5;241m.\u001b[39mwraps(func)\n\u001b[1;32m   1414\u001b[0m \u001b[38;5;28;01mdef\u001b[39;00m \u001b[38;5;21minner\u001b[39m(ax, \u001b[38;5;241m*\u001b[39margs, data\u001b[38;5;241m=\u001b[39m\u001b[38;5;28;01mNone\u001b[39;00m, \u001b[38;5;241m*\u001b[39m\u001b[38;5;241m*\u001b[39mkwargs):\n\u001b[1;32m   1415\u001b[0m     \u001b[38;5;28;01mif\u001b[39;00m data \u001b[38;5;129;01mis\u001b[39;00m \u001b[38;5;28;01mNone\u001b[39;00m:\n\u001b[0;32m-> 1416\u001b[0m         \u001b[38;5;28;01mreturn\u001b[39;00m \u001b[43mfunc\u001b[49m\u001b[43m(\u001b[49m\u001b[43max\u001b[49m\u001b[43m,\u001b[49m\u001b[43m \u001b[49m\u001b[38;5;241;43m*\u001b[39;49m\u001b[38;5;28;43mmap\u001b[39;49m\u001b[43m(\u001b[49m\u001b[43msanitize_sequence\u001b[49m\u001b[43m,\u001b[49m\u001b[43m \u001b[49m\u001b[43margs\u001b[49m\u001b[43m)\u001b[49m\u001b[43m,\u001b[49m\u001b[43m \u001b[49m\u001b[38;5;241;43m*\u001b[39;49m\u001b[38;5;241;43m*\u001b[39;49m\u001b[43mkwargs\u001b[49m\u001b[43m)\u001b[49m\n\u001b[1;32m   1418\u001b[0m     bound \u001b[38;5;241m=\u001b[39m new_sig\u001b[38;5;241m.\u001b[39mbind(ax, \u001b[38;5;241m*\u001b[39margs, \u001b[38;5;241m*\u001b[39m\u001b[38;5;241m*\u001b[39mkwargs)\n\u001b[1;32m   1419\u001b[0m     auto_label \u001b[38;5;241m=\u001b[39m (bound\u001b[38;5;241m.\u001b[39marguments\u001b[38;5;241m.\u001b[39mget(label_namer)\n\u001b[1;32m   1420\u001b[0m                   \u001b[38;5;129;01mor\u001b[39;00m bound\u001b[38;5;241m.\u001b[39mkwargs\u001b[38;5;241m.\u001b[39mget(label_namer))\n",
      "File \u001b[0;32m/usr/lib/python3/dist-packages/matplotlib/axes/_axes.py:6586\u001b[0m, in \u001b[0;36mAxes.hist\u001b[0;34m(self, x, bins, range, density, weights, cumulative, bottom, histtype, align, orientation, rwidth, log, color, label, stacked, **kwargs)\u001b[0m\n\u001b[1;32m   6584\u001b[0m len_xi \u001b[38;5;241m=\u001b[39m \u001b[38;5;28mlen\u001b[39m(xi)\n\u001b[1;32m   6585\u001b[0m \u001b[38;5;28;01mif\u001b[39;00m wi \u001b[38;5;129;01mis\u001b[39;00m \u001b[38;5;129;01mnot\u001b[39;00m \u001b[38;5;28;01mNone\u001b[39;00m \u001b[38;5;129;01mand\u001b[39;00m \u001b[38;5;28mlen\u001b[39m(wi) \u001b[38;5;241m!=\u001b[39m len_xi:\n\u001b[0;32m-> 6586\u001b[0m     \u001b[38;5;28;01mraise\u001b[39;00m \u001b[38;5;167;01mValueError\u001b[39;00m(\u001b[38;5;124m'\u001b[39m\u001b[38;5;124mweights should have the same shape as x\u001b[39m\u001b[38;5;124m'\u001b[39m)\n\u001b[1;32m   6587\u001b[0m \u001b[38;5;28;01mif\u001b[39;00m len_xi:\n\u001b[1;32m   6588\u001b[0m     input_empty \u001b[38;5;241m=\u001b[39m \u001b[38;5;28;01mFalse\u001b[39;00m\n",
      "\u001b[0;31mValueError\u001b[0m: weights should have the same shape as x"
     ]
    },
    {
     "data": {
      "image/png": "[encoded data removed]",
      "text/plain": [
       "<Figure size 700x900 with 1 Axes>"
      ]
     },
     "metadata": {},
     "output_type": "display_data"
    }
   ],
   "source": [
    "N1 = 30 # bins for masses\n",
    "w=np.ones(N1)/N1\n",
    "\n",
    "plt.figure(figsize=(7,9), layout=\"constrained\")\n",
    "#plt.subplots(2, 2)\n",
    "\n",
    "plt.subplot(311)\n",
    "\n",
    "# plotting histogram for all masses for this redshift\n",
    "\n",
    "beans = np.logspace(np.log10(min(masses)), np.log10(max(masses)), N1+1) \n",
    "\n",
    "#beans = np.linspace(min(masses), max(masses), N1+1)\n",
    "\n",
    "dNdM, M_left, bars_M = plt.hist(masses, \n",
    "                                bins=beans, \n",
    "                                color='green', \n",
    "                                histtype='barstacked',\n",
    "                                log=False,\n",
    "                                weights = w,\n",
    "                                label = 'z = '+f\"{zzz:.3f}\")\n",
    "\n",
    "plt.xscale('log')\n",
    "plt.yscale('log')\n",
    "plt.xticks([10**d for d in [12.0, 13.0, 14, 14.5]], [12.0, 13.0, 14, 14.5])\n",
    "plt.yticks([1, 10, 100, 1000], [1, 10, 100, 1000])\n",
    "plt.xlabel(\"$log_{10} \\ M_{500}/(M_{\\odot} h^{-1})$\", fontsize = 13)\n",
    "plt.ylabel(r\"$ dN/dM $\", fontsize = 15)\n",
    "plt.legend()                    #prop={'size': 15}, handlelength=0, loc=0)\n",
    "xxx = plt.gca().get_xlim()\n",
    "\n",
    "dM = np.diff(M_left)                     # array of steps for masses, it is NOT the same for each bin    \n",
    "M_binned = (M_left[:-1]+M_left[1:])/2    # array of centers of each bin\n",
    "\n",
    "#print(M_left[:-1], M_left[1:])\n",
    "\n",
    "#print(dM)\n",
    "#print(np.log10(dM))\n",
    "\n",
    "#plt.plot(M_binned, dM, marker='o')\n",
    "    \n",
    "for _ in M_binned:\n",
    "    plt.axvline(_, color='r', linestyle=\"--\", alpha = 0.5)   # draw red dashed line\n",
    "    \n",
    "plt.subplot(312)\n",
    "\n",
    "# calculating cumulative mass function, i.e. Number of clusters that have greater or equal mass than given\n",
    "# given == center of each bin\n",
    "# dNdM from top histogram == Number of clusters in each bin\n",
    "    \n",
    "dNdM_cumulative=np.zeros(N1)\n",
    "\n",
    "for i in range(0, N1):\n",
    "    dNdM_cumulative[i] = np.sum(dNdM[i+1:])\n",
    "    #print('Bin №', i+1, ':', dNdM[i], 'clusters;', dNdM_cumulative[i], 'with > mass')\n",
    "    \n",
    "#print(dNdM)\n",
    "#print(dNdM_cumulative)\n",
    "\n",
    "plt.plot(M_binned, dNdM_cumulative[:], marker='o')\n",
    "plt.xscale('log')\n",
    "plt.xlim(xxx)\n",
    "plt.xticks([10**d for d in [12.0, 13.0, 14, 14.5]], [12.0, 13.0, 14, 14.5])\n",
    "plt.yscale('log')\n",
    "plt.xlabel(\"$log_{10} \\ M_{500}/(M_{\\odot} h^{-1})$\", fontsize = 13)\n",
    "plt.ylabel(\"Number of clusters ($> M$)\", fontsize = 13)  # that have \\n lower or equal mass than given\n",
    "plt.grid()\n",
    "\n",
    "plt.subplot(313)\n",
    "\n",
    "# shifting from Number of clusters (N) in each bin to concentration of clusters (n) in each bin\n",
    "# by division of dNdM on comoving volume for this z\n",
    "\n",
    "dndM = dNdM_cumulative/phys_dcv_new(zzz, dz, Omega_M, Omega_L) # Mpc^(-3)\n",
    "\n",
    "#print(dndM)\n",
    "#print(np.sum(M_binned*dndM))\n",
    "#print(rho_crit(zz))\n",
    "\n",
    "# rescaling dndM in Tinker 2008 style\n",
    "\n",
    "#print(dM)\n",
    "#print(dM*N1)\n",
    "\n",
    "rho_mean = rho_crit(zzz, Omega_M, Omega_L)/h**2  # h^2 Msun/kpc^3\n",
    "\n",
    "yyy = (M_binned**2/rho_mean)/1e9*dndM/dM  # sure? dimension is h\n",
    "\n",
    "plt.plot(M_binned, yyy, marker='o')\n",
    "plt.xlim(xxx)\n",
    "plt.xscale('log')\n",
    "plt.xticks([10**d for d in [12.0, 13.0, 14, 14.5]], [12.0, 13.0, 14, 14.5])\n",
    "plt.yscale('log')\n",
    "plt.xlabel(\"$log_{10} \\ M_{500}/(M_{\\odot} h^{-1})$\", fontsize = 13)\n",
    "plt.ylabel(r\"$log[ \\ (M^2/\\bar{\\rho}_{m}) dn/dM \\ ]$\", fontsize = 15) # not log!\n",
    "plt.grid()\n",
    "#plt.show()"
   ]
  },
  {
   "cell_type": "markdown",
   "id": "f18584a3",
   "metadata": {},
   "source": [
    "### Now let's do it for all bins and combine all plots:"
   ]
  },
  {
   "cell_type": "code",
   "execution_count": 255,
   "id": "0d4c5493",
   "metadata": {
    "scrolled": false
   },
   "outputs": [
    {
     "data": {
      "image/png": "[encoded data removed]",
      "text/plain": [
       "<Figure size 700x700 with 1 Axes>"
      ]
     },
     "metadata": {},
     "output_type": "display_data"
    }
   ],
   "source": [
    "N_bins = 40 # bins for MASSES\n",
    "\n",
    "x_final = []\n",
    "y_final = []\n",
    "\n",
    "#beans = np.logspace(11, 15, N_bins+1) \n",
    "\n",
    "plt.figure(figsize=(7,7))\n",
    "\n",
    "for zz in z_binned[::3]:\n",
    "    \n",
    "    MASSES = dictionary[zz]\n",
    "    \n",
    "    beans = np.logspace(np.log10(min(MASSES)), np.log10(max(MASSES)), N_bins+1) \n",
    "    #beans = np.linspace(min(MASSES), max(MASSES), N_bins+1)\n",
    "    dNdM, M_left = np.histogram(MASSES, bins=beans)\n",
    "    \n",
    "   # print(dNdM)\n",
    "   # print(sum(dNdM))\n",
    "    \n",
    "    #percent = dNdM/sum(dNdM)\n",
    "    \n",
    "    #print(percent)\n",
    "\n",
    "    #print(sum(dM))\n",
    "    \n",
    "    dM = np.diff(M_left)            # array of steps for MASSES, it is NOT the same for each bin\n",
    "    M_binned = (M_left[:-1]+M_left[1:])/2     # array of centers of each bin\n",
    "    \n",
    "    dNdM_cumulative=np.zeros(N_bins)\n",
    "\n",
    "    for i in range(0, N_bins):                 # cumulative, see above\n",
    "        dNdM_cumulative[i] = np.sum(dNdM[i+1:])   # or just i\n",
    "\n",
    "    dndM = dNdM_cumulative/phys_dcv_new(zz, dz, Omega_M, Omega_L) #Mpc^(-3)\n",
    "    \n",
    "    rho_mean = rho_crit(zz, Omega_M, Omega_L)/h**2  # h^2 Msun/kpc^3\n",
    "    \n",
    "    yyy = (M_binned**2/rho_mean)/1e9*dndM/dM/N_bins #*percent#(dM*sum(dNdM))*dNdM  # sure? dimension is h\n",
    "    \n",
    "    x_final.append(M_binned)\n",
    "    y_final.append(yyy)\n",
    "    \n",
    "    plt.scatter(M_binned, yyy, linewidth=2, label='z = '+f'{zz:.2f}')\n",
    "\n",
    "#plt.scatter(x_final, y_final)\n",
    "plt.xscale('log')\n",
    "plt.yscale('log')\n",
    "plt.xlim(10**10, 10**16)\n",
    "plt.ylim(10**(-3.6), 10**(-0.8))\n",
    "plt.xlabel(\"$log_{10} \\ M_{500}/(M_{\\odot} h^{-1})$\", fontsize = 14)\n",
    "plt.ylabel(r\"$log[ \\ (M^2/\\bar{\\rho}_{m}) dn/dM \\ ]$\", fontsize = 14)\n",
    "plt.xticks([10**(10+g) for g in [0,1,2,3,4,5,6]], [10+g for g in [0,1,2,3,4,5,6]], fontsize = 12)\n",
    "plt.yticks([10**(g) for g in [-3,-2,-1]], [-3,-2,-1], fontsize = 12)\n",
    "plt.plot(x_fit, y_fit, color='black', label='Tinker08', linewidth=2)\n",
    "#plt.grid()\n",
    "plt.legend(fontsize = 10, loc=1)\n",
    "plt.show()"
   ]
  },
  {
   "cell_type": "markdown",
   "id": "1024eef5",
   "metadata": {},
   "source": [
    "### 4. Mass function from Tinker 2008 and `hmf`:"
   ]
  },
  {
   "cell_type": "markdown",
   "id": "a208acde",
   "metadata": {},
   "source": [
    "https://hmf.readthedocs.io/en/latest/_autosummary/hmf/MassFunction/hmf.mass_function.hmf.MassFunction.halo_overdensity_mean.html#hmf.mass_function.hmf.MassFunction.halo_overdensity_mean"
   ]
  },
  {
   "cell_type": "code",
   "execution_count": 123,
   "id": "28506b27",
   "metadata": {},
   "outputs": [],
   "source": [
    "from hmf import MassFunction"
   ]
  },
  {
   "cell_type": "code",
   "execution_count": 124,
   "id": "ed1af966",
   "metadata": {
    "scrolled": false
   },
   "outputs": [
    {
     "data": {
      "text/plain": [
       "{'cosmo_model': FlatLambdaCDM(name=\"Planck15\", H0=67.7 km / (Mpc s), Om0=0.307, Tcmb0=2.725 K, Neff=3.05, m_nu=[0.   0.   0.06] eV, Ob0=0.0486),\n",
       " 'cosmo_params': {},\n",
       " 'n': 0.9667,\n",
       " 'sigma_8': 0.8159,\n",
       " 'growth_params': {},\n",
       " 'lnk_min': -18.420680743952367,\n",
       " 'lnk_max': 9.903487552536127,\n",
       " 'dlnk': 0.05,\n",
       " 'z': 0.0,\n",
       " 'transfer_model': hmf.density_field.transfer_models.CAMB,\n",
       " 'transfer_params': {},\n",
       " 'takahashi': True,\n",
       " 'growth_model': hmf.cosmology.growth_factor.GrowthFactor,\n",
       " 'hmf_model': hmf.mass_function.fitting_functions.Tinker08,\n",
       " 'Mmin': 10.0,\n",
       " 'Mmax': 15.0,\n",
       " 'dlog10m': 0.01,\n",
       " 'mdef_model': None,\n",
       " 'mdef_params': {},\n",
       " 'delta_c': 1.686,\n",
       " 'hmf_params': {},\n",
       " 'filter_model': hmf.density_field.filters.TopHat,\n",
       " 'filter_params': {},\n",
       " 'disable_mass_conversion': True}"
      ]
     },
     "execution_count": 124,
     "metadata": {},
     "output_type": "execute_result"
    }
   ],
   "source": [
    "MassFunction.get_all_parameter_defaults(recursive=False)"
   ]
  },
  {
   "cell_type": "code",
   "execution_count": 125,
   "id": "8e6cfe43",
   "metadata": {},
   "outputs": [
    {
     "name": "stdout",
     "output_type": "stream",
     "text": [
      "cosmo_model : instance of `astropy.cosmology.FLRW` subclass\n",
      "    The basis for the cosmology -- see astropy documentation. Can be a custom\n",
      "    subclass. Defaults to Planck15.\n",
      "\n",
      "sigma_8 : float\n",
      "    RMS linear density fluctuations in spheres of radius 8 Mpc/h\n",
      "\n"
     ]
    }
   ],
   "source": [
    "MassFunction.parameter_info([\"cosmo_model\",\"sigma_8\"])\n",
    "\n",
    "#The parameter names passed filter the output. \n",
    "#Call with no parameters to get info on all of them."
   ]
  },
  {
   "cell_type": "code",
   "execution_count": 126,
   "id": "f01dbb87",
   "metadata": {},
   "outputs": [],
   "source": [
    "mf = MassFunction()"
   ]
  },
  {
   "cell_type": "code",
   "execution_count": 127,
   "id": "338495a4",
   "metadata": {
    "scrolled": true
   },
   "outputs": [
    {
     "name": "stdout",
     "output_type": "stream",
     "text": [
      "['ERROR_ON_BAD_MDEF', '_dlnsdlnm', '_growth_factor_fn', '_gtm', '_normalisation', '_power0', '_sigma_0', '_unn_sig8', '_unn_sigma0', '_unnormalised_lnT', '_unnormalised_power', 'cosmo', 'delta_k', 'dndlnm', 'dndlog10m', 'dndm', 'filter', 'fsigma', 'growth', 'growth_factor', 'halo_overdensity_crit', 'halo_overdensity_mean', 'hmf', 'how_big', 'k', 'lnsigma', 'm', 'mass_nonlinear', 'mdef', 'mean_density', 'mean_density0', 'n_eff', 'ngtm', 'nonlinear_delta_k', 'nonlinear_power', 'normalised_filter', 'nu', 'power', 'radii', 'rho_gtm', 'rho_ltm', 'sigma', 'transfer', 'transfer_function']\n"
     ]
    }
   ],
   "source": [
    "print(mf.quantities_available())"
   ]
  },
  {
   "cell_type": "code",
   "execution_count": 60,
   "id": "443aba4b",
   "metadata": {},
   "outputs": [
    {
     "data": {
      "text/plain": [
       "200.0"
      ]
     },
     "execution_count": 60,
     "metadata": {},
     "output_type": "execute_result"
    }
   ],
   "source": [
    "mf.halo_overdensity_mean"
   ]
  },
  {
   "cell_type": "code",
   "execution_count": 128,
   "id": "7ea02105",
   "metadata": {},
   "outputs": [],
   "source": [
    "#mf.update(halo_overdensity_mean = 100)"
   ]
  },
  {
   "cell_type": "code",
   "execution_count": 129,
   "id": "0c906d57",
   "metadata": {
    "scrolled": false
   },
   "outputs": [
    {
     "data": {
      "image/png": "[encoded data removed]",
      "text/plain": [
       "<Figure size 640x480 with 1 Axes>"
      ]
     },
     "metadata": {},
     "output_type": "display_data"
    }
   ],
   "source": [
    "plt.plot(mf.m, mf.dndm)\n",
    "plt.xscale('log')\n",
    "plt.yscale('log')\n",
    "\n",
    "plt.xlabel(r\"Mass, $[h^{-1}M_\\odot]$\")\n",
    "plt.ylabel(r\"$dn/dm$, $[h^{4}{\\rm Mpc}^{-3}M_\\odot^{-1}]$\");"
   ]
  },
  {
   "cell_type": "code",
   "execution_count": 136,
   "id": "c46d2170",
   "metadata": {},
   "outputs": [],
   "source": [
    "mf = MassFunction(z = 1.0,                  # Redshift of 1.0\n",
    "                  cosmo_params={\"Om0\":0.3}, # Matter density of 0.3\n",
    "                  hmf_model=\"Tinker08\")           # Tinker fitting function"
   ]
  },
  {
   "cell_type": "code",
   "execution_count": 137,
   "id": "dbef1f9a",
   "metadata": {},
   "outputs": [
    {
     "data": {
      "image/png": "[encoded data removed]",
      "text/plain": [
       "<Figure size 640x480 with 1 Axes>"
      ]
     },
     "metadata": {},
     "output_type": "display_data"
    }
   ],
   "source": [
    "plt.plot(mf.m, mf.dndm)\n",
    "plt.xscale('log')\n",
    "plt.yscale('log')\n",
    "\n",
    "plt.xlabel(r\"Mass, $[h^{-1}M_\\odot]$\", fontsize=14)\n",
    "plt.ylabel(r\"$dn/dm$, $[h^{4}{\\rm Mpc}^{-3}M_\\odot^{-1}]$\", fontsize=14)\n",
    "plt.grid()"
   ]
  },
  {
   "cell_type": "code",
   "execution_count": 138,
   "id": "1ecab5f4",
   "metadata": {
    "scrolled": false
   },
   "outputs": [
    {
     "data": {
      "image/png": "[encoded data removed]",
      "text/plain": [
       "<Figure size 640x480 with 1 Axes>"
      ]
     },
     "metadata": {},
     "output_type": "display_data"
    }
   ],
   "source": [
    "plt.plot(np.log10(mf.m), np.log10(mf.sigma))\n",
    "\n",
    "plt.xlabel(r\"Mass, $[h^{-1}M_\\odot]$\", fontsize=14)\n",
    "plt.ylabel(r\"$\\sigma(m)$\", fontsize=14)\n",
    "plt.grid()"
   ]
  },
  {
   "cell_type": "code",
   "execution_count": 139,
   "id": "6a550b7c",
   "metadata": {},
   "outputs": [
    {
     "data": {
      "image/png": "[encoded data removed]",
      "text/plain": [
       "<Figure size 640x480 with 1 Axes>"
      ]
     },
     "metadata": {},
     "output_type": "display_data"
    }
   ],
   "source": [
    "def func(sigma):\n",
    "    A = 0.218\n",
    "    a = 1.61\n",
    "    b = 1.87\n",
    "    c = 1.45\n",
    "    return A*( (sigma/b)**(-a) + 1 )*np.exp(-c/sigma**2)\n",
    "\n",
    "plt.plot(mf.sigma, mf.fsigma)\n",
    "\n",
    "x = np.linspace(0.001,2.5,100)\n",
    "plt.plot(x, func(x))\n",
    "\n",
    "plt.xlabel(r\"$\\sigma(m)$\", fontsize=14)\n",
    "plt.ylabel(r\"$f(\\sigma)$\", fontsize=14)\n",
    "plt.grid()\n",
    "plt.show()"
   ]
  },
  {
   "cell_type": "code",
   "execution_count": 140,
   "id": "2301fe4f",
   "metadata": {},
   "outputs": [
    {
     "data": {
      "image/png": "[encoded data removed]",
      "text/plain": [
       "<Figure size 640x480 with 1 Axes>"
      ]
     },
     "metadata": {},
     "output_type": "display_data"
    }
   ],
   "source": [
    "x_fit = mf.m\n",
    "y_fit = mf.m**2*mf.dndm/2.77e11\n",
    "\n",
    "plt.plot(np.log10(mf.m), np.log10(mf.m**2*mf.dndm/2.77e11))\n",
    "\n",
    "plt.xlabel(r\"$\\sigma(m)$\", fontsize=14)\n",
    "plt.ylabel(r\"$f(\\sigma)$\", fontsize=14)\n",
    "plt.grid()\n",
    "#plt.xscale('log')\n",
    "#plt.yscale('log')\n",
    "plt.show()"
   ]
  },
  {
   "cell_type": "code",
   "execution_count": null,
   "id": "4b58aa01",
   "metadata": {},
   "outputs": [],
   "source": []
  },
  {
   "cell_type": "code",
   "execution_count": null,
   "id": "cb24e744",
   "metadata": {},
   "outputs": [],
   "source": []
  }
 ],
 "metadata": {
  "kernelspec": {
   "display_name": "Python 3 (ipykernel)",
   "language": "python",
   "name": "python3"
  },
  "language_info": {
   "codemirror_mode": {
    "name": "ipython",
    "version": 3
   },
   "file_extension": ".py",
   "mimetype": "text/x-python",
   "name": "python",
   "nbconvert_exporter": "python",
   "pygments_lexer": "ipython3",
   "version": "3.10.12"
  }
 },
 "nbformat": 4,
 "nbformat_minor": 5
}
