{
 "cells": [
  {
   "cell_type": "code",
   "execution_count": 1,
   "id": "bcc7a240",
   "metadata": {},
   "outputs": [],
   "source": [
    "import pandas as pd\n",
    "import numpy as np\n",
    "import matplotlib.pyplot as plt\n",
    "from astropy.io import fits\n",
    "\n",
    "import os"
   ]
  },
  {
   "cell_type": "code",
   "execution_count": 2,
   "id": "1df53dc3",
   "metadata": {},
   "outputs": [
    {
     "data": {
      "text/plain": [
       "0.032637492755919"
      ]
     },
     "execution_count": 2,
     "metadata": {},
     "output_type": "execute_result"
    }
   ],
   "source": [
    "hdul = fits.open(\"../eROSITA_5.0x5.0/Phox/phlist_140.fits\")\n",
    "redshift = hdul[0].header[\"REDSHIFT\"]\n",
    "redshift"
   ]
  },
  {
   "cell_type": "code",
   "execution_count": 3,
   "id": "c876ff49",
   "metadata": {
    "scrolled": true
   },
   "outputs": [
    {
     "name": "stdout",
     "output_type": "stream",
     "text": [
      "[[ 0.1747205  12.34507561  8.04138279  0.03263749]\n",
      " [ 0.19680159 12.36287975  8.04604626  0.03263749]\n",
      " [ 0.17229494 12.45425797  7.61272335  0.03263749]\n",
      " ...\n",
      " [ 0.72353977  8.36527824 11.50980282  0.03263749]\n",
      " [ 1.39314687  8.35939693 11.53186512  0.03263749]\n",
      " [ 3.37372637  8.34757519 11.52863026  0.03263749]]\n"
     ]
    }
   ],
   "source": [
    "data = hdul[2].data\n",
    "table = pd.DataFrame(data[:])\n",
    "table[\"REDSHIFT\"] = redshift\n",
    "print(table.to_numpy())"
   ]
  },
  {
   "cell_type": "code",
   "execution_count": 4,
   "id": "5e3dc114",
   "metadata": {},
   "outputs": [
    {
     "data": {
      "text/plain": [
       "array([[ 0.1747205 , 12.34507561,  8.04138279,  0.03263749],\n",
       "       [ 0.19680159, 12.36287975,  8.04604626,  0.03263749],\n",
       "       [ 0.17229494, 12.45425797,  7.61272335,  0.03263749],\n",
       "       [ 0.19681488, 12.48889256,  7.57853699,  0.03263749]])"
      ]
     },
     "execution_count": 4,
     "metadata": {},
     "output_type": "execute_result"
    }
   ],
   "source": [
    "a = table.to_numpy()[0:2]\n",
    "b = table.to_numpy()[2:4]\n",
    "np.concatenate((a,b))"
   ]
  },
  {
   "cell_type": "code",
   "execution_count": 5,
   "id": "ec6200fb",
   "metadata": {},
   "outputs": [
    {
     "data": {
      "text/plain": [
       "array([0.1747205 , 0.19680159, 0.17229494, ..., 0.72353977, 1.3931469 ,\n",
       "       3.3737264 ], dtype=float32)"
      ]
     },
     "execution_count": 5,
     "metadata": {},
     "output_type": "execute_result"
    }
   ],
   "source": [
    "data[\"ENERGY\"]"
   ]
  },
  {
   "cell_type": "code",
   "execution_count": 6,
   "id": "d804b581",
   "metadata": {},
   "outputs": [
    {
     "data": {
      "text/plain": [
       "10.602292"
      ]
     },
     "execution_count": 6,
     "metadata": {},
     "output_type": "execute_result"
    }
   ],
   "source": [
    "data.field(\"RA\").mean()"
   ]
  },
  {
   "cell_type": "code",
   "execution_count": 7,
   "id": "414c2495",
   "metadata": {},
   "outputs": [
    {
     "data": {
      "text/plain": [
       "10.323925"
      ]
     },
     "execution_count": 7,
     "metadata": {},
     "output_type": "execute_result"
    }
   ],
   "source": [
    "data.field(\"DEC\").mean()"
   ]
  },
  {
   "cell_type": "code",
   "execution_count": 21,
   "id": "0640c119",
   "metadata": {
    "scrolled": false
   },
   "outputs": [
    {
     "name": "stdout",
     "output_type": "stream",
     "text": [
      "[array([0., 0., 0., 0.])]\n",
      "<class 'numpy.ndarray'>\n",
      "2534310\n"
     ]
    }
   ],
   "source": [
    "wd = 'eROSITA_5.0x5.0/Phox/'\n",
    "mylist = sorted(os.listdir(\"/Users/mac/work/clusters/\"+wd))\n",
    "\n",
    "mylist = [item for item in mylist if item[:6] == \"phlist\"]\n",
    "#print(wd+str(mylist))\n",
    "\n",
    "table_merged = [np.zeros((4))]\n",
    "print(table_merged)\n",
    "\n",
    "length = 0\n",
    "\n",
    "for item in mylist:\n",
    "    if item[:6] == \"phlist\":\n",
    "        \n",
    "        hdul = fits.open(wd+item)\n",
    "        redshift = hdul[0].header[\"REDSHIFT\"]\n",
    "        \n",
    "        data = hdul[2].data\n",
    "        table = pd.DataFrame(data[:])\n",
    "        table[\"REDSHIFT\"] = redshift\n",
    "        \n",
    "        table_array = table.to_numpy()\n",
    "        length = length + len(table_array)\n",
    "        \n",
    "        table_merged = np.concatenate((table_merged, table_array))\n",
    "        \n",
    "        #print(wd+item, )\n",
    "        #print(table.to_numpy())\n",
    "        hdul.close()\n",
    "        \n",
    "print(type(table_merged[1:]))\n",
    "print(length)"
   ]
  },
  {
   "cell_type": "code",
   "execution_count": 36,
   "id": "84d510bf",
   "metadata": {},
   "outputs": [],
   "source": [
    "pd.DataFrame(table_merged, columns=[\"ENERGY\", \"RA\", \"DEC\", \"REDSHIFT\"]).drop(0).to_csv('phlist_merged.csv', index=False)"
   ]
  },
  {
   "cell_type": "code",
   "execution_count": null,
   "id": "ecf1999d",
   "metadata": {},
   "outputs": [],
   "source": []
  }
 ],
 "metadata": {
  "kernelspec": {
   "display_name": "Python 3 (ipykernel)",
   "language": "python",
   "name": "python3"
  },
  "language_info": {
   "codemirror_mode": {
    "name": "ipython",
    "version": 3
   },
   "file_extension": ".py",
   "mimetype": "text/x-python",
   "name": "python",
   "nbconvert_exporter": "python",
   "pygments_lexer": "ipython3",
   "version": "3.9.10"
  }
 },
 "nbformat": 4,
 "nbformat_minor": 5
}
